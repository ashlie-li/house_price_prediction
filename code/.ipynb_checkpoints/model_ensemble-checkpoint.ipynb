{
 "cells": [
  {
   "cell_type": "code",
   "execution_count": 5,
   "id": "1762d5f5",
   "metadata": {},
   "outputs": [],
   "source": [
    "import pandas as pd\n",
    "import numpy as np\n",
    "from sklearn.metrics import mean_squared_error\n",
    "from sklearn.metrics import mean_absolute_error\n",
    "import xgboost as xgb"
   ]
  },
  {
   "cell_type": "code",
   "execution_count": 6,
   "id": "440287c3",
   "metadata": {},
   "outputs": [
    {
     "name": "stdout",
     "output_type": "stream",
     "text": [
      "3.8.8\n"
     ]
    }
   ],
   "source": [
    "from platform import python_version\n",
    "\n",
    "print(python_version())"
   ]
  },
  {
   "cell_type": "code",
   "execution_count": 7,
   "id": "041a05bc",
   "metadata": {},
   "outputs": [],
   "source": [
    "# please change the path of the csv files."
   ]
  },
  {
   "cell_type": "code",
   "execution_count": 8,
   "id": "de5b6eae",
   "metadata": {},
   "outputs": [],
   "source": [
    "train_preds_NN_mae = pd.read_csv('../model_output/train/train_preds_NN_mae.csv')\n",
    "# train_preds_NN_mse = pd.read_csv('../model_output/train/train_preds_NN_mse.csv')\n",
    "train_preds_gamma = pd.read_csv('../model_output/train/train_preds_gamma.csv')\n",
    "# train_preds_mse = pd.read_csv('../model_output/train/train_preds_mse.csv')\n",
    "train_preds_possion = pd.read_csv('../model_output/train/train_preds_possion.csv')\n",
    "train_preds_lasso = pd.read_csv('../model_output/train/train_preds_lasso.csv')\n",
    "train_pred_gbm = pd.read_csv('../model_output/train/train_pred_gbm.csv')\n",
    "train_preds_rf = pd.read_csv('../model_output/train/train_preds_rf.csv')\n",
    "train_preds_NN_log = pd.read_csv('../model_output/train/train_preds_NN_log.csv')\n",
    "\n",
    "y_train = pd.read_csv('../model_output/train/y_train.csv')"
   ]
  },
  {
   "cell_type": "code",
   "execution_count": 9,
   "id": "dcb4b7c4",
   "metadata": {},
   "outputs": [],
   "source": [
    "df = pd.DataFrame()\n",
    "df['train_pred_gbm'] = train_pred_gbm['train_pred_gbm']\n",
    "df['train_preds_rf'] = train_preds_rf['train_preds_rf']\n",
    "df['train_preds_NN_log'] = train_preds_NN_log['train_preds_NN_log']\n",
    "df['train_preds_NN_mae'] = train_preds_NN_mae['train_preds_NN_mae']\n",
    "# df['train_preds_NN_mse'] = train_preds_NN_mse['train_preds_NN_mse']\n",
    "df['train_preds_gamma'] = train_preds_gamma['train_preds_gamma']\n",
    "# df['train_preds_mse'] = train_preds_mse['train_preds_mse']\n",
    "df['train_preds_possion'] = train_preds_possion['train_preds_possion']\n",
    "df['train_preds_lasso'] = train_preds_lasso['train_preds_lasso']"
   ]
  },
  {
   "cell_type": "code",
   "execution_count": 10,
   "id": "97b01f5e",
   "metadata": {},
   "outputs": [],
   "source": [
    "X_train = df"
   ]
  },
  {
   "cell_type": "code",
   "execution_count": 11,
   "id": "5bf004be",
   "metadata": {},
   "outputs": [
    {
     "data": {
      "text/html": [
       "<div>\n",
       "<style scoped>\n",
       "    .dataframe tbody tr th:only-of-type {\n",
       "        vertical-align: middle;\n",
       "    }\n",
       "\n",
       "    .dataframe tbody tr th {\n",
       "        vertical-align: top;\n",
       "    }\n",
       "\n",
       "    .dataframe thead th {\n",
       "        text-align: right;\n",
       "    }\n",
       "</style>\n",
       "<table border=\"1\" class=\"dataframe\">\n",
       "  <thead>\n",
       "    <tr style=\"text-align: right;\">\n",
       "      <th></th>\n",
       "      <th>train_pred_gbm</th>\n",
       "      <th>train_preds_rf</th>\n",
       "      <th>train_preds_NN_log</th>\n",
       "      <th>train_preds_NN_mae</th>\n",
       "      <th>train_preds_gamma</th>\n",
       "      <th>train_preds_possion</th>\n",
       "      <th>train_preds_lasso</th>\n",
       "    </tr>\n",
       "  </thead>\n",
       "  <tbody>\n",
       "    <tr>\n",
       "      <th>0</th>\n",
       "      <td>3.919881e+05</td>\n",
       "      <td>2.339729e+05</td>\n",
       "      <td>500514.34</td>\n",
       "      <td>498283.28</td>\n",
       "      <td>232397.83</td>\n",
       "      <td>357201.94</td>\n",
       "      <td>4.388714e+05</td>\n",
       "    </tr>\n",
       "    <tr>\n",
       "      <th>1</th>\n",
       "      <td>1.556866e+06</td>\n",
       "      <td>1.499562e+06</td>\n",
       "      <td>1824362.10</td>\n",
       "      <td>1156633.00</td>\n",
       "      <td>3366392.20</td>\n",
       "      <td>2238983.20</td>\n",
       "      <td>1.198484e+06</td>\n",
       "    </tr>\n",
       "    <tr>\n",
       "      <th>2</th>\n",
       "      <td>1.178244e+06</td>\n",
       "      <td>1.184290e+06</td>\n",
       "      <td>1140175.00</td>\n",
       "      <td>1112639.60</td>\n",
       "      <td>1067647.40</td>\n",
       "      <td>1392235.80</td>\n",
       "      <td>1.096026e+06</td>\n",
       "    </tr>\n",
       "    <tr>\n",
       "      <th>3</th>\n",
       "      <td>4.614341e+05</td>\n",
       "      <td>4.664581e+05</td>\n",
       "      <td>437167.06</td>\n",
       "      <td>471951.28</td>\n",
       "      <td>442948.72</td>\n",
       "      <td>418580.66</td>\n",
       "      <td>4.295414e+05</td>\n",
       "    </tr>\n",
       "    <tr>\n",
       "      <th>4</th>\n",
       "      <td>2.920015e+05</td>\n",
       "      <td>2.876718e+05</td>\n",
       "      <td>264623.72</td>\n",
       "      <td>285012.97</td>\n",
       "      <td>286807.75</td>\n",
       "      <td>274726.40</td>\n",
       "      <td>2.563495e+05</td>\n",
       "    </tr>\n",
       "  </tbody>\n",
       "</table>\n",
       "</div>"
      ],
      "text/plain": [
       "   train_pred_gbm  train_preds_rf  train_preds_NN_log  train_preds_NN_mae  \\\n",
       "0    3.919881e+05    2.339729e+05           500514.34           498283.28   \n",
       "1    1.556866e+06    1.499562e+06          1824362.10          1156633.00   \n",
       "2    1.178244e+06    1.184290e+06          1140175.00          1112639.60   \n",
       "3    4.614341e+05    4.664581e+05           437167.06           471951.28   \n",
       "4    2.920015e+05    2.876718e+05           264623.72           285012.97   \n",
       "\n",
       "   train_preds_gamma  train_preds_possion  train_preds_lasso  \n",
       "0          232397.83            357201.94       4.388714e+05  \n",
       "1         3366392.20           2238983.20       1.198484e+06  \n",
       "2         1067647.40           1392235.80       1.096026e+06  \n",
       "3          442948.72            418580.66       4.295414e+05  \n",
       "4          286807.75            274726.40       2.563495e+05  "
      ]
     },
     "execution_count": 11,
     "metadata": {},
     "output_type": "execute_result"
    }
   ],
   "source": [
    "X_train.head()"
   ]
  },
  {
   "cell_type": "code",
   "execution_count": 12,
   "id": "4b37f1b8",
   "metadata": {},
   "outputs": [
    {
     "data": {
      "text/plain": [
       "(2000000, 7)"
      ]
     },
     "execution_count": 12,
     "metadata": {},
     "output_type": "execute_result"
    }
   ],
   "source": [
    "X_train.shape"
   ]
  },
  {
   "cell_type": "code",
   "execution_count": 13,
   "id": "cb7d30e0",
   "metadata": {},
   "outputs": [],
   "source": [
    "val_preds_NN_mae = pd.read_csv('../model_output/validation/val_preds_NN_mae.csv')\n",
    "# val_preds_NN_mse = pd.read_csv('../model_output/validation/val_preds_NN_mse.csv')\n",
    "val_preds_gamma = pd.read_csv('../model_output/validation/val_preds_gamma.csv')\n",
    "# val_preds_mse = pd.read_csv('../model_output/validation/val_preds_mse.csv')\n",
    "val_preds_possion = pd.read_csv('../model_output/validation/val_preds_possion.csv')\n",
    "val_preds_lasso = pd.read_csv('../model_output/validation/val_preds_lasso.csv')\n",
    "val_pred_gbm = pd.read_csv('../model_output/validation/val_preds_gbm.csv')\n",
    "val_preds_rf = pd.read_csv('../model_output/validation/val_preds_rf.csv')\n",
    "val_preds_NN_log = pd.read_csv('../model_output/validation/val_preds_NN_log.csv')\n",
    "\n",
    "y_val = pd.read_csv('../model_output/validation/y_val.csv')"
   ]
  },
  {
   "cell_type": "code",
   "execution_count": 14,
   "id": "120b9e6c",
   "metadata": {},
   "outputs": [],
   "source": [
    "df = pd.DataFrame()\n",
    "df['val_pred_gbm'] = val_pred_gbm['val_pred_gbm']\n",
    "df['val_preds_rf'] = val_preds_rf['val_preds_rf']\n",
    "df['val_preds_NN_log'] = val_preds_NN_log['val_preds_NN_log']\n",
    "df['val_preds_NN_mae'] = val_preds_NN_mae['val_preds_NN_mae']\n",
    "# df['val_preds_NN_mse'] = val_preds_NN_mse['val_preds_NN_mse']\n",
    "df['val_preds_gamma'] = val_preds_gamma['val_preds_gamma']\n",
    "# df['val_preds_mse'] = val_preds_mse['val_preds_mse']\n",
    "df['val_preds_possion'] = val_preds_possion['val_preds_possion']\n",
    "df['val_preds_lasso'] = val_preds_lasso['val_preds_lasso']"
   ]
  },
  {
   "cell_type": "code",
   "execution_count": 15,
   "id": "776bc710",
   "metadata": {},
   "outputs": [],
   "source": [
    "X_val = df"
   ]
  },
  {
   "cell_type": "code",
   "execution_count": 16,
   "id": "090863e9",
   "metadata": {},
   "outputs": [
    {
     "data": {
      "text/html": [
       "<div>\n",
       "<style scoped>\n",
       "    .dataframe tbody tr th:only-of-type {\n",
       "        vertical-align: middle;\n",
       "    }\n",
       "\n",
       "    .dataframe tbody tr th {\n",
       "        vertical-align: top;\n",
       "    }\n",
       "\n",
       "    .dataframe thead th {\n",
       "        text-align: right;\n",
       "    }\n",
       "</style>\n",
       "<table border=\"1\" class=\"dataframe\">\n",
       "  <thead>\n",
       "    <tr style=\"text-align: right;\">\n",
       "      <th></th>\n",
       "      <th>val_pred_gbm</th>\n",
       "      <th>val_preds_rf</th>\n",
       "      <th>val_preds_NN_log</th>\n",
       "      <th>val_preds_NN_mae</th>\n",
       "      <th>val_preds_gamma</th>\n",
       "      <th>val_preds_possion</th>\n",
       "      <th>val_preds_lasso</th>\n",
       "    </tr>\n",
       "  </thead>\n",
       "  <tbody>\n",
       "    <tr>\n",
       "      <th>0</th>\n",
       "      <td>1.470820e+05</td>\n",
       "      <td>1.467995e+05</td>\n",
       "      <td>147168.38</td>\n",
       "      <td>159547.67</td>\n",
       "      <td>144224.39</td>\n",
       "      <td>141602.86</td>\n",
       "      <td>1.564212e+05</td>\n",
       "    </tr>\n",
       "    <tr>\n",
       "      <th>1</th>\n",
       "      <td>1.924251e+05</td>\n",
       "      <td>1.788618e+05</td>\n",
       "      <td>191110.88</td>\n",
       "      <td>199430.95</td>\n",
       "      <td>194166.58</td>\n",
       "      <td>207011.19</td>\n",
       "      <td>2.041536e+05</td>\n",
       "    </tr>\n",
       "    <tr>\n",
       "      <th>2</th>\n",
       "      <td>6.666920e+05</td>\n",
       "      <td>6.413085e+05</td>\n",
       "      <td>700641.44</td>\n",
       "      <td>704075.00</td>\n",
       "      <td>650889.44</td>\n",
       "      <td>694657.90</td>\n",
       "      <td>6.858465e+05</td>\n",
       "    </tr>\n",
       "    <tr>\n",
       "      <th>3</th>\n",
       "      <td>7.039097e+05</td>\n",
       "      <td>6.888727e+05</td>\n",
       "      <td>704260.60</td>\n",
       "      <td>712308.56</td>\n",
       "      <td>711598.60</td>\n",
       "      <td>720248.40</td>\n",
       "      <td>6.678726e+05</td>\n",
       "    </tr>\n",
       "    <tr>\n",
       "      <th>4</th>\n",
       "      <td>1.619501e+06</td>\n",
       "      <td>1.575629e+06</td>\n",
       "      <td>1639088.00</td>\n",
       "      <td>1662339.00</td>\n",
       "      <td>1460002.50</td>\n",
       "      <td>1447979.10</td>\n",
       "      <td>1.533321e+06</td>\n",
       "    </tr>\n",
       "  </tbody>\n",
       "</table>\n",
       "</div>"
      ],
      "text/plain": [
       "   val_pred_gbm  val_preds_rf  val_preds_NN_log  val_preds_NN_mae  \\\n",
       "0  1.470820e+05  1.467995e+05         147168.38         159547.67   \n",
       "1  1.924251e+05  1.788618e+05         191110.88         199430.95   \n",
       "2  6.666920e+05  6.413085e+05         700641.44         704075.00   \n",
       "3  7.039097e+05  6.888727e+05         704260.60         712308.56   \n",
       "4  1.619501e+06  1.575629e+06        1639088.00        1662339.00   \n",
       "\n",
       "   val_preds_gamma  val_preds_possion  val_preds_lasso  \n",
       "0        144224.39          141602.86     1.564212e+05  \n",
       "1        194166.58          207011.19     2.041536e+05  \n",
       "2        650889.44          694657.90     6.858465e+05  \n",
       "3        711598.60          720248.40     6.678726e+05  \n",
       "4       1460002.50         1447979.10     1.533321e+06  "
      ]
     },
     "execution_count": 16,
     "metadata": {},
     "output_type": "execute_result"
    }
   ],
   "source": [
    "X_val.head()"
   ]
  },
  {
   "cell_type": "code",
   "execution_count": 17,
   "id": "a337060f",
   "metadata": {},
   "outputs": [
    {
     "data": {
      "text/plain": [
       "(600000, 7)"
      ]
     },
     "execution_count": 17,
     "metadata": {},
     "output_type": "execute_result"
    }
   ],
   "source": [
    "X_val.shape"
   ]
  },
  {
   "cell_type": "code",
   "execution_count": 18,
   "id": "e1e55254",
   "metadata": {},
   "outputs": [],
   "source": [
    "test_preds_NN_mae = pd.read_csv('../model_output/test/test_preds_NN_mae.csv')\n",
    "# test_preds_NN_mse = pd.read_csv('../model_output/test/test_preds_NN_mse.csv')\n",
    "test_preds_gamma = pd.read_csv('../model_output/test/test_preds_gamma.csv')\n",
    "# test_preds_mse = pd.read_csv('../model_output/test/test_preds_mse.csv')\n",
    "test_preds_possion = pd.read_csv('../model_output/test/test_preds_possion.csv')\n",
    "test_preds_lasso = pd.read_csv('../model_output/test/test_preds_lasso.csv')\n",
    "test_pred_gbm = pd.read_csv('../model_output/test/test_preds_gbm.csv')\n",
    "test_preds_rf = pd.read_csv('../model_output/test/test_preds_rf.csv')\n",
    "test_preds_NN_log = pd.read_csv('../model_output/test/test_preds_NN_log.csv')\n",
    "\n",
    "y_test = pd.read_csv('../model_output/test/y_test.csv')"
   ]
  },
  {
   "cell_type": "code",
   "execution_count": 19,
   "id": "41ba98a4",
   "metadata": {},
   "outputs": [],
   "source": [
    "df = pd.DataFrame()\n",
    "df['test_pred_gbm'] = test_pred_gbm['test_pred_gbm']\n",
    "df['test_preds_rf'] = test_preds_rf['test_preds_rf']\n",
    "df['test_preds_NN_log'] = test_preds_NN_log['test_preds_NN_log']\n",
    "df['test_preds_NN_mae'] = test_preds_NN_mae['test_preds_NN_mae']\n",
    "# df['test_preds_NN_mse'] = test_preds_NN_mse['test_preds_NN_mse']\n",
    "df['test_preds_gamma'] = test_preds_gamma['test_preds_gamma']\n",
    "# df['test_preds_mse'] = test_preds_mse['test_preds_mse']\n",
    "df['test_preds_possion'] = test_preds_possion['test_preds_possion']\n",
    "df['test_preds_lasso'] = test_preds_lasso['test_preds_lasso']"
   ]
  },
  {
   "cell_type": "code",
   "execution_count": 20,
   "id": "8c015d25",
   "metadata": {},
   "outputs": [],
   "source": [
    "X_test = df"
   ]
  },
  {
   "cell_type": "code",
   "execution_count": 21,
   "id": "b3532f79",
   "metadata": {},
   "outputs": [
    {
     "data": {
      "text/plain": [
       "(333041, 7)"
      ]
     },
     "execution_count": 21,
     "metadata": {},
     "output_type": "execute_result"
    }
   ],
   "source": [
    "X_test.shape"
   ]
  },
  {
   "cell_type": "code",
   "execution_count": 22,
   "id": "34f7c515",
   "metadata": {},
   "outputs": [
    {
     "data": {
      "text/html": [
       "<div>\n",
       "<style scoped>\n",
       "    .dataframe tbody tr th:only-of-type {\n",
       "        vertical-align: middle;\n",
       "    }\n",
       "\n",
       "    .dataframe tbody tr th {\n",
       "        vertical-align: top;\n",
       "    }\n",
       "\n",
       "    .dataframe thead th {\n",
       "        text-align: right;\n",
       "    }\n",
       "</style>\n",
       "<table border=\"1\" class=\"dataframe\">\n",
       "  <thead>\n",
       "    <tr style=\"text-align: right;\">\n",
       "      <th></th>\n",
       "      <th>Unnamed: 0</th>\n",
       "      <th>y</th>\n",
       "    </tr>\n",
       "  </thead>\n",
       "  <tbody>\n",
       "    <tr>\n",
       "      <th>0</th>\n",
       "      <td>0</td>\n",
       "      <td>210263.0</td>\n",
       "    </tr>\n",
       "    <tr>\n",
       "      <th>1</th>\n",
       "      <td>1</td>\n",
       "      <td>1434941.0</td>\n",
       "    </tr>\n",
       "    <tr>\n",
       "      <th>2</th>\n",
       "      <td>2</td>\n",
       "      <td>1174475.0</td>\n",
       "    </tr>\n",
       "    <tr>\n",
       "      <th>3</th>\n",
       "      <td>3</td>\n",
       "      <td>440101.0</td>\n",
       "    </tr>\n",
       "    <tr>\n",
       "      <th>4</th>\n",
       "      <td>4</td>\n",
       "      <td>287634.0</td>\n",
       "    </tr>\n",
       "  </tbody>\n",
       "</table>\n",
       "</div>"
      ],
      "text/plain": [
       "   Unnamed: 0          y\n",
       "0           0   210263.0\n",
       "1           1  1434941.0\n",
       "2           2  1174475.0\n",
       "3           3   440101.0\n",
       "4           4   287634.0"
      ]
     },
     "execution_count": 22,
     "metadata": {},
     "output_type": "execute_result"
    }
   ],
   "source": [
    "y_train.head()"
   ]
  },
  {
   "cell_type": "code",
   "execution_count": 23,
   "id": "bb1b7da6",
   "metadata": {},
   "outputs": [],
   "source": [
    "y_train = y_train['y']\n",
    "y_val = y_val['y']\n",
    "y_test = y_test['y']"
   ]
  },
  {
   "cell_type": "code",
   "execution_count": 24,
   "id": "7959fcec",
   "metadata": {},
   "outputs": [],
   "source": [
    "# X_train.columns = ['gbm', 'rf', 'NN_log', 'NN_mae', 'NN_mse', 'gamma', 'mse', 'possion', 'lasso']\n",
    "\n",
    "X_train.columns = ['gbm', 'rf', 'NN_log', 'NN_mae', 'gamma', 'possion', 'lasso']\n",
    "X_val.columns = X_train.columns\n",
    "X_test.columns = X_train.columns\n",
    "# X_val.columns = ['gbm', 'rf', 'NN_log', 'NN_mae', 'NN_mse', 'gamma', 'mse', 'possion', 'lasso']\n",
    "# X_test.columns = ['gbm', 'rf', 'NN_log', 'NN_mae', 'NN_mse', 'gamma', 'mse', 'possion', 'lasso']"
   ]
  },
  {
   "cell_type": "code",
   "execution_count": null,
   "id": "c2258aa7",
   "metadata": {},
   "outputs": [],
   "source": [
    "from sklearn.ensemble import RandomForestRegressor\n",
    "regr = RandomForestRegressor(max_depth=2, random_state=42, criterion='mae', n_estimators = 50)\n",
    "regr.fit(X_train, y_train)"
   ]
  },
  {
   "cell_type": "code",
   "execution_count": null,
   "id": "11b9e40a",
   "metadata": {},
   "outputs": [],
   "source": [
    "train_preds_rf = regr.predict(X_train)\n",
    "val_preds_rf = regr.predict(X_val)\n",
    "test_preds_rf = regr.predict(X_test)"
   ]
  },
  {
   "cell_type": "code",
   "execution_count": null,
   "id": "f9f5fc97",
   "metadata": {},
   "outputs": [],
   "source": [
    "MAE_train = mean_absolute_error(train_preds_rf,y_train)\n",
    "MAE_val = mean_absolute_error(val_preds_rf,y_val)\n",
    "MAE_test = mean_absolute_error(test_preds_rf,y_test)\n",
    "\n",
    "print('MAE of train set: ', MAE_train)\n",
    "print('MAE of val set: ', MAE_val)\n",
    "print('MAE of test set: ', MAE_test)"
   ]
  },
  {
   "cell_type": "code",
   "execution_count": null,
   "id": "c88ba6a1",
   "metadata": {},
   "outputs": [],
   "source": [
    "MAE of train set:  203566.2177977836\n",
    "MAE of val set:  204318.1692711447\n",
    "MAE of test set:  204077.81955732693"
   ]
  },
  {
   "cell_type": "code",
   "execution_count": 25,
   "id": "fd27320f",
   "metadata": {},
   "outputs": [],
   "source": [
    "def get_params():\n",
    "    \n",
    "    params = {}\n",
    "    params[\"objective\"] = \"reg:squarederror\"     \n",
    "    params[\"eta\"] = 0.1\n",
    "    params[\"min_child_weight\"] = 100\n",
    "    params[\"subsample\"] = 0.85\n",
    "    params[\"colsample_bytree\"] = 0.3\n",
    "    # params[\"silent\"] = 1\n",
    "    params[\"max_depth\"] = 2\n",
    "    plst = list(params.items())\n",
    "\n",
    "    return plst\n",
    "\n",
    "xgb_num_rounds = 500\n",
    "# convert data to xgb data structure\n",
    "xgtrain = xgb.DMatrix(X_train, y_train)\n",
    "\n",
    "plst = get_params()"
   ]
  },
  {
   "cell_type": "code",
   "execution_count": 26,
   "id": "12ece3ca",
   "metadata": {},
   "outputs": [
    {
     "ename": "KeyboardInterrupt",
     "evalue": "",
     "output_type": "error",
     "traceback": [
      "\u001b[0;31m---------------------------------------------------------------------------\u001b[0m",
      "\u001b[0;31mKeyboardInterrupt\u001b[0m                         Traceback (most recent call last)",
      "\u001b[0;32m<ipython-input-26-d2e0c7cf9767>\u001b[0m in \u001b[0;36m<module>\u001b[0;34m\u001b[0m\n\u001b[1;32m      1\u001b[0m \u001b[0;31m# train model\u001b[0m\u001b[0;34m\u001b[0m\u001b[0;34m\u001b[0m\u001b[0;34m\u001b[0m\u001b[0m\n\u001b[0;32m----> 2\u001b[0;31m \u001b[0mmodel_mse\u001b[0m \u001b[0;34m=\u001b[0m \u001b[0mxgb\u001b[0m\u001b[0;34m.\u001b[0m\u001b[0mtrain\u001b[0m\u001b[0;34m(\u001b[0m\u001b[0mplst\u001b[0m\u001b[0;34m,\u001b[0m \u001b[0mxgtrain\u001b[0m\u001b[0;34m,\u001b[0m \u001b[0mxgb_num_rounds\u001b[0m\u001b[0;34m)\u001b[0m\u001b[0;34m\u001b[0m\u001b[0;34m\u001b[0m\u001b[0m\n\u001b[0m",
      "\u001b[0;32m/opt/anaconda3/lib/python3.8/site-packages/xgboost/training.py\u001b[0m in \u001b[0;36mtrain\u001b[0;34m(params, dtrain, num_boost_round, evals, obj, feval, maximize, early_stopping_rounds, evals_result, verbose_eval, xgb_model, callbacks)\u001b[0m\n\u001b[1;32m    186\u001b[0m     \u001b[0mBooster\u001b[0m \u001b[0;34m:\u001b[0m \u001b[0ma\u001b[0m \u001b[0mtrained\u001b[0m \u001b[0mbooster\u001b[0m \u001b[0mmodel\u001b[0m\u001b[0;34m\u001b[0m\u001b[0;34m\u001b[0m\u001b[0m\n\u001b[1;32m    187\u001b[0m     \"\"\"\n\u001b[0;32m--> 188\u001b[0;31m     bst = _train_internal(params, dtrain,\n\u001b[0m\u001b[1;32m    189\u001b[0m                           \u001b[0mnum_boost_round\u001b[0m\u001b[0;34m=\u001b[0m\u001b[0mnum_boost_round\u001b[0m\u001b[0;34m,\u001b[0m\u001b[0;34m\u001b[0m\u001b[0;34m\u001b[0m\u001b[0m\n\u001b[1;32m    190\u001b[0m                           \u001b[0mevals\u001b[0m\u001b[0;34m=\u001b[0m\u001b[0mevals\u001b[0m\u001b[0;34m,\u001b[0m\u001b[0;34m\u001b[0m\u001b[0;34m\u001b[0m\u001b[0m\n",
      "\u001b[0;32m/opt/anaconda3/lib/python3.8/site-packages/xgboost/training.py\u001b[0m in \u001b[0;36m_train_internal\u001b[0;34m(params, dtrain, num_boost_round, evals, obj, feval, xgb_model, callbacks, evals_result, maximize, verbose_eval, early_stopping_rounds)\u001b[0m\n\u001b[1;32m     79\u001b[0m         \u001b[0;32mif\u001b[0m \u001b[0mcallbacks\u001b[0m\u001b[0;34m.\u001b[0m\u001b[0mbefore_iteration\u001b[0m\u001b[0;34m(\u001b[0m\u001b[0mbst\u001b[0m\u001b[0;34m,\u001b[0m \u001b[0mi\u001b[0m\u001b[0;34m,\u001b[0m \u001b[0mdtrain\u001b[0m\u001b[0;34m,\u001b[0m \u001b[0mevals\u001b[0m\u001b[0;34m)\u001b[0m\u001b[0;34m:\u001b[0m\u001b[0;34m\u001b[0m\u001b[0;34m\u001b[0m\u001b[0m\n\u001b[1;32m     80\u001b[0m             \u001b[0;32mbreak\u001b[0m\u001b[0;34m\u001b[0m\u001b[0;34m\u001b[0m\u001b[0m\n\u001b[0;32m---> 81\u001b[0;31m         \u001b[0mbst\u001b[0m\u001b[0;34m.\u001b[0m\u001b[0mupdate\u001b[0m\u001b[0;34m(\u001b[0m\u001b[0mdtrain\u001b[0m\u001b[0;34m,\u001b[0m \u001b[0mi\u001b[0m\u001b[0;34m,\u001b[0m \u001b[0mobj\u001b[0m\u001b[0;34m)\u001b[0m\u001b[0;34m\u001b[0m\u001b[0;34m\u001b[0m\u001b[0m\n\u001b[0m\u001b[1;32m     82\u001b[0m         \u001b[0;32mif\u001b[0m \u001b[0mcallbacks\u001b[0m\u001b[0;34m.\u001b[0m\u001b[0mafter_iteration\u001b[0m\u001b[0;34m(\u001b[0m\u001b[0mbst\u001b[0m\u001b[0;34m,\u001b[0m \u001b[0mi\u001b[0m\u001b[0;34m,\u001b[0m \u001b[0mdtrain\u001b[0m\u001b[0;34m,\u001b[0m \u001b[0mevals\u001b[0m\u001b[0;34m)\u001b[0m\u001b[0;34m:\u001b[0m\u001b[0;34m\u001b[0m\u001b[0;34m\u001b[0m\u001b[0m\n\u001b[1;32m     83\u001b[0m             \u001b[0;32mbreak\u001b[0m\u001b[0;34m\u001b[0m\u001b[0;34m\u001b[0m\u001b[0m\n",
      "\u001b[0;32m/opt/anaconda3/lib/python3.8/site-packages/xgboost/core.py\u001b[0m in \u001b[0;36mupdate\u001b[0;34m(self, dtrain, iteration, fobj)\u001b[0m\n\u001b[1;32m   1678\u001b[0m \u001b[0;34m\u001b[0m\u001b[0m\n\u001b[1;32m   1679\u001b[0m         \u001b[0;32mif\u001b[0m \u001b[0mfobj\u001b[0m \u001b[0;32mis\u001b[0m \u001b[0;32mNone\u001b[0m\u001b[0;34m:\u001b[0m\u001b[0;34m\u001b[0m\u001b[0;34m\u001b[0m\u001b[0m\n\u001b[0;32m-> 1680\u001b[0;31m             _check_call(_LIB.XGBoosterUpdateOneIter(self.handle,\n\u001b[0m\u001b[1;32m   1681\u001b[0m                                                     \u001b[0mctypes\u001b[0m\u001b[0;34m.\u001b[0m\u001b[0mc_int\u001b[0m\u001b[0;34m(\u001b[0m\u001b[0miteration\u001b[0m\u001b[0;34m)\u001b[0m\u001b[0;34m,\u001b[0m\u001b[0;34m\u001b[0m\u001b[0;34m\u001b[0m\u001b[0m\n\u001b[1;32m   1682\u001b[0m                                                     dtrain.handle))\n",
      "\u001b[0;31mKeyboardInterrupt\u001b[0m: "
     ]
    }
   ],
   "source": [
    "# train model\n",
    "model_mse = xgb.train(plst, xgtrain, xgb_num_rounds) "
   ]
  },
  {
   "cell_type": "code",
   "execution_count": 44,
   "id": "5c6b2fb5",
   "metadata": {},
   "outputs": [],
   "source": [
    "# train_preds_mse = model_mse.predict(xgtrain, ntree_limit=model_mse.best_iteration)\n",
    "# MSE_train = mean_squared_error(train_preds_mse,y_train)\n",
    "# print('MSE of train set: ', MSE_train)"
   ]
  },
  {
   "cell_type": "code",
   "execution_count": 45,
   "id": "87129f8a",
   "metadata": {},
   "outputs": [],
   "source": [
    "train_preds_mse = model_mse.predict(xgtrain, ntree_limit=model_mse.best_iteration)\n",
    "\n",
    "xgval = xgb.DMatrix(X_val, y_val)\n",
    "val_preds_mse = model_mse.predict(xgval, ntree_limit=model_mse.best_iteration)\n",
    "\n",
    "xgtest = xgb.DMatrix(X_test, y_test)\n",
    "test_preds_mse = model_mse.predict(xgtest, ntree_limit=model_mse.best_iteration)"
   ]
  },
  {
   "cell_type": "code",
   "execution_count": 46,
   "id": "8aeedd97",
   "metadata": {},
   "outputs": [
    {
     "name": "stdout",
     "output_type": "stream",
     "text": [
      "MSE of train set:  127295705419.87726\n",
      "MSE of val set:  40550564939.42582\n",
      "MSE of test set:  52613233303.681694\n"
     ]
    }
   ],
   "source": [
    "MSE_train = mean_squared_error(train_preds_mse,y_train)\n",
    "MSE_val = mean_squared_error(val_preds_mse,y_val)\n",
    "MSE_test = mean_squared_error(test_preds_mse,y_test)\n",
    "\n",
    "print('MSE of train set: ', MSE_train)\n",
    "print('MSE of val set: ', MSE_val)\n",
    "print('MSE of test set: ', MSE_test)"
   ]
  },
  {
   "cell_type": "code",
   "execution_count": 47,
   "id": "62208483",
   "metadata": {},
   "outputs": [
    {
     "name": "stdout",
     "output_type": "stream",
     "text": [
      "MAE of train set:  23127.220713923827\n",
      "MAE of val set:  23447.523685970053\n",
      "MAE of test set:  23653.3795318768\n"
     ]
    }
   ],
   "source": [
    "MAE_train = mean_absolute_error(train_preds_mse,y_train)\n",
    "MAE_val = mean_absolute_error(val_preds_mse,y_val)\n",
    "MAE_test = mean_absolute_error(test_preds_mse,y_test)\n",
    "\n",
    "print('MAE of train set: ', MAE_train)\n",
    "print('MAE of val set: ', MAE_val)\n",
    "print('MAE of test set: ', MAE_test)"
   ]
  },
  {
   "cell_type": "code",
   "execution_count": 50,
   "id": "ad2cd55a",
   "metadata": {},
   "outputs": [
    {
     "data": {
      "text/html": [
       "<div>\n",
       "<style scoped>\n",
       "    .dataframe tbody tr th:only-of-type {\n",
       "        vertical-align: middle;\n",
       "    }\n",
       "\n",
       "    .dataframe tbody tr th {\n",
       "        vertical-align: top;\n",
       "    }\n",
       "\n",
       "    .dataframe thead th {\n",
       "        text-align: right;\n",
       "    }\n",
       "</style>\n",
       "<table border=\"1\" class=\"dataframe\">\n",
       "  <thead>\n",
       "    <tr style=\"text-align: right;\">\n",
       "      <th></th>\n",
       "      <th>gbm</th>\n",
       "      <th>rf</th>\n",
       "      <th>NN_log</th>\n",
       "      <th>NN_mae</th>\n",
       "      <th>NN_mse</th>\n",
       "      <th>gamma</th>\n",
       "      <th>mse</th>\n",
       "      <th>possion</th>\n",
       "      <th>lasso</th>\n",
       "    </tr>\n",
       "  </thead>\n",
       "  <tbody>\n",
       "    <tr>\n",
       "      <th>0</th>\n",
       "      <td>5.120464e+05</td>\n",
       "      <td>5.011480e+05</td>\n",
       "      <td>523390.06</td>\n",
       "      <td>528773.5</td>\n",
       "      <td>528850.00</td>\n",
       "      <td>508736.10</td>\n",
       "      <td>554719.70</td>\n",
       "      <td>542294.56</td>\n",
       "      <td>5.181220e+05</td>\n",
       "    </tr>\n",
       "    <tr>\n",
       "      <th>1</th>\n",
       "      <td>5.506355e+05</td>\n",
       "      <td>5.346032e+05</td>\n",
       "      <td>546146.70</td>\n",
       "      <td>565648.9</td>\n",
       "      <td>559537.25</td>\n",
       "      <td>526199.25</td>\n",
       "      <td>440986.72</td>\n",
       "      <td>609996.75</td>\n",
       "      <td>5.537396e+05</td>\n",
       "    </tr>\n",
       "    <tr>\n",
       "      <th>2</th>\n",
       "      <td>1.355251e+06</td>\n",
       "      <td>1.366078e+06</td>\n",
       "      <td>1318567.00</td>\n",
       "      <td>1341670.1</td>\n",
       "      <td>1362894.60</td>\n",
       "      <td>1503582.20</td>\n",
       "      <td>1362098.60</td>\n",
       "      <td>1519296.50</td>\n",
       "      <td>1.364627e+06</td>\n",
       "    </tr>\n",
       "    <tr>\n",
       "      <th>3</th>\n",
       "      <td>4.541249e+05</td>\n",
       "      <td>4.544690e+05</td>\n",
       "      <td>440602.94</td>\n",
       "      <td>463312.3</td>\n",
       "      <td>464866.28</td>\n",
       "      <td>403821.66</td>\n",
       "      <td>561050.75</td>\n",
       "      <td>534700.80</td>\n",
       "      <td>5.184623e+05</td>\n",
       "    </tr>\n",
       "    <tr>\n",
       "      <th>4</th>\n",
       "      <td>1.352069e+06</td>\n",
       "      <td>1.288616e+06</td>\n",
       "      <td>1278463.40</td>\n",
       "      <td>1290312.4</td>\n",
       "      <td>1257807.10</td>\n",
       "      <td>1228364.90</td>\n",
       "      <td>1531766.60</td>\n",
       "      <td>1161285.60</td>\n",
       "      <td>1.275402e+06</td>\n",
       "    </tr>\n",
       "  </tbody>\n",
       "</table>\n",
       "</div>"
      ],
      "text/plain": [
       "            gbm            rf      NN_log     NN_mae      NN_mse       gamma  \\\n",
       "0  5.120464e+05  5.011480e+05   523390.06   528773.5   528850.00   508736.10   \n",
       "1  5.506355e+05  5.346032e+05   546146.70   565648.9   559537.25   526199.25   \n",
       "2  1.355251e+06  1.366078e+06  1318567.00  1341670.1  1362894.60  1503582.20   \n",
       "3  4.541249e+05  4.544690e+05   440602.94   463312.3   464866.28   403821.66   \n",
       "4  1.352069e+06  1.288616e+06  1278463.40  1290312.4  1257807.10  1228364.90   \n",
       "\n",
       "          mse     possion         lasso  \n",
       "0   554719.70   542294.56  5.181220e+05  \n",
       "1   440986.72   609996.75  5.537396e+05  \n",
       "2  1362098.60  1519296.50  1.364627e+06  \n",
       "3   561050.75   534700.80  5.184623e+05  \n",
       "4  1531766.60  1161285.60  1.275402e+06  "
      ]
     },
     "execution_count": 50,
     "metadata": {},
     "output_type": "execute_result"
    }
   ],
   "source": [
    "X_test.head()"
   ]
  },
  {
   "cell_type": "code",
   "execution_count": 51,
   "id": "a92124ae",
   "metadata": {},
   "outputs": [
    {
     "data": {
      "text/plain": [
       "19905.760628586824"
      ]
     },
     "execution_count": 51,
     "metadata": {},
     "output_type": "execute_result"
    }
   ],
   "source": [
    "mean_absolute_error(X_test['gbm'], y_test)"
   ]
  },
  {
   "cell_type": "code",
   "execution_count": 52,
   "id": "5a6ae4dd",
   "metadata": {},
   "outputs": [
    {
     "data": {
      "text/plain": [
       "15524.704888004851"
      ]
     },
     "execution_count": 52,
     "metadata": {},
     "output_type": "execute_result"
    }
   ],
   "source": [
    "mean_absolute_error(X_test['rf'], y_test)"
   ]
  },
  {
   "cell_type": "code",
   "execution_count": 53,
   "id": "ac622122",
   "metadata": {},
   "outputs": [
    {
     "data": {
      "text/plain": [
       "21115.09395242928"
      ]
     },
     "execution_count": 53,
     "metadata": {},
     "output_type": "execute_result"
    }
   ],
   "source": [
    "mean_absolute_error(X_test['NN_log'], y_test)"
   ]
  },
  {
   "cell_type": "code",
   "execution_count": 54,
   "id": "297cc2bb",
   "metadata": {},
   "outputs": [
    {
     "data": {
      "text/plain": [
       "23134.06612271312"
      ]
     },
     "execution_count": 54,
     "metadata": {},
     "output_type": "execute_result"
    }
   ],
   "source": [
    "mean_absolute_error(X_test['NN_mae'], y_test)"
   ]
  },
  {
   "cell_type": "code",
   "execution_count": 55,
   "id": "92af51e2",
   "metadata": {},
   "outputs": [
    {
     "data": {
      "text/plain": [
       "35082.61159412506"
      ]
     },
     "execution_count": 55,
     "metadata": {},
     "output_type": "execute_result"
    }
   ],
   "source": [
    "mean_absolute_error(X_test['NN_mse'], y_test)"
   ]
  },
  {
   "cell_type": "code",
   "execution_count": 56,
   "id": "b12fe1f0",
   "metadata": {},
   "outputs": [
    {
     "data": {
      "text/plain": [
       "24137.7285906585"
      ]
     },
     "execution_count": 56,
     "metadata": {},
     "output_type": "execute_result"
    }
   ],
   "source": [
    "mean_absolute_error(X_test['gamma'], y_test)"
   ]
  },
  {
   "cell_type": "code",
   "execution_count": 57,
   "id": "e95bfded",
   "metadata": {},
   "outputs": [
    {
     "data": {
      "text/plain": [
       "32705.02154175548"
      ]
     },
     "execution_count": 57,
     "metadata": {},
     "output_type": "execute_result"
    }
   ],
   "source": [
    "mean_absolute_error(X_test['mse'], y_test)"
   ]
  },
  {
   "cell_type": "code",
   "execution_count": 58,
   "id": "46662e86",
   "metadata": {},
   "outputs": [
    {
     "data": {
      "text/plain": [
       "33790.538668145964"
      ]
     },
     "execution_count": 58,
     "metadata": {},
     "output_type": "execute_result"
    }
   ],
   "source": [
    "mean_absolute_error(X_test['possion'], y_test)"
   ]
  },
  {
   "cell_type": "code",
   "execution_count": 59,
   "id": "a039ee6a",
   "metadata": {},
   "outputs": [
    {
     "data": {
      "text/plain": [
       "36753.711388327014"
      ]
     },
     "execution_count": 59,
     "metadata": {},
     "output_type": "execute_result"
    }
   ],
   "source": [
    "mean_absolute_error(X_test['lasso'], y_test)"
   ]
  },
  {
   "cell_type": "code",
   "execution_count": null,
   "id": "6840dcc9",
   "metadata": {},
   "outputs": [],
   "source": []
  }
 ],
 "metadata": {
  "kernelspec": {
   "display_name": "Python 3",
   "language": "python",
   "name": "python3"
  },
  "language_info": {
   "codemirror_mode": {
    "name": "ipython",
    "version": 3
   },
   "file_extension": ".py",
   "mimetype": "text/x-python",
   "name": "python",
   "nbconvert_exporter": "python",
   "pygments_lexer": "ipython3",
   "version": "3.8.8"
  }
 },
 "nbformat": 4,
 "nbformat_minor": 5
}
