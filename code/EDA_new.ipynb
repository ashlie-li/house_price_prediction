{
 "cells": [
  {
   "cell_type": "code",
   "execution_count": 1,
   "id": "99ae7985",
   "metadata": {},
   "outputs": [],
   "source": [
    "# Warning: please change the path of csv files before you run the code\n",
    "# Warning: please make sure your version of Python and Python package are satisfied with requirement."
   ]
  },
  {
   "cell_type": "code",
   "execution_count": 2,
   "id": "63b48fad",
   "metadata": {},
   "outputs": [],
   "source": [
    "import numpy as np \n",
    "import pandas as pd \n",
    "import matplotlib.pyplot as plt\n",
    "import seaborn as sns"
   ]
  },
  {
   "cell_type": "code",
   "execution_count": 3,
   "id": "0a8fe890",
   "metadata": {},
   "outputs": [
    {
     "name": "stdout",
     "output_type": "stream",
     "text": [
      "2021-11-29 16:38:49.840286\n"
     ]
    }
   ],
   "source": [
    "import datetime\n",
    "print(datetime.datetime.now())"
   ]
  },
  {
   "cell_type": "markdown",
   "id": "0b4f2f2a",
   "metadata": {},
   "source": [
    "## Read data from local (please change the path of csvs)"
   ]
  },
  {
   "cell_type": "code",
   "execution_count": 4,
   "id": "dbc1a9fa",
   "metadata": {},
   "outputs": [
    {
     "name": "stderr",
     "output_type": "stream",
     "text": [
      "/opt/anaconda3/lib/python3.8/site-packages/IPython/core/interactiveshell.py:3165: DtypeWarning: Columns (22,32,34,49,55) have mixed types.Specify dtype option on import or set low_memory=False.\n",
      "  has_raised = await self.run_ast_nodes(code_ast.body, cell_name,\n"
     ]
    },
    {
     "data": {
      "text/html": [
       "<div>\n",
       "<style scoped>\n",
       "    .dataframe tbody tr th:only-of-type {\n",
       "        vertical-align: middle;\n",
       "    }\n",
       "\n",
       "    .dataframe tbody tr th {\n",
       "        vertical-align: top;\n",
       "    }\n",
       "\n",
       "    .dataframe thead th {\n",
       "        text-align: right;\n",
       "    }\n",
       "</style>\n",
       "<table border=\"1\" class=\"dataframe\">\n",
       "  <thead>\n",
       "    <tr style=\"text-align: right;\">\n",
       "      <th></th>\n",
       "      <th>parcelid</th>\n",
       "      <th>airconditioningtypeid</th>\n",
       "      <th>architecturalstyletypeid</th>\n",
       "      <th>basementsqft</th>\n",
       "      <th>bathroomcnt</th>\n",
       "      <th>bedroomcnt</th>\n",
       "      <th>buildingclasstypeid</th>\n",
       "      <th>buildingqualitytypeid</th>\n",
       "      <th>calculatedbathnbr</th>\n",
       "      <th>decktypeid</th>\n",
       "      <th>...</th>\n",
       "      <th>numberofstories</th>\n",
       "      <th>fireplaceflag</th>\n",
       "      <th>structuretaxvaluedollarcnt</th>\n",
       "      <th>taxvaluedollarcnt</th>\n",
       "      <th>assessmentyear</th>\n",
       "      <th>landtaxvaluedollarcnt</th>\n",
       "      <th>taxamount</th>\n",
       "      <th>taxdelinquencyflag</th>\n",
       "      <th>taxdelinquencyyear</th>\n",
       "      <th>censustractandblock</th>\n",
       "    </tr>\n",
       "  </thead>\n",
       "  <tbody>\n",
       "    <tr>\n",
       "      <th>0</th>\n",
       "      <td>10754147</td>\n",
       "      <td>NaN</td>\n",
       "      <td>NaN</td>\n",
       "      <td>NaN</td>\n",
       "      <td>0.0</td>\n",
       "      <td>0.0</td>\n",
       "      <td>NaN</td>\n",
       "      <td>NaN</td>\n",
       "      <td>NaN</td>\n",
       "      <td>NaN</td>\n",
       "      <td>...</td>\n",
       "      <td>NaN</td>\n",
       "      <td>NaN</td>\n",
       "      <td>NaN</td>\n",
       "      <td>9.0</td>\n",
       "      <td>2015.0</td>\n",
       "      <td>9.0</td>\n",
       "      <td>NaN</td>\n",
       "      <td>NaN</td>\n",
       "      <td>NaN</td>\n",
       "      <td>NaN</td>\n",
       "    </tr>\n",
       "    <tr>\n",
       "      <th>1</th>\n",
       "      <td>10759547</td>\n",
       "      <td>NaN</td>\n",
       "      <td>NaN</td>\n",
       "      <td>NaN</td>\n",
       "      <td>0.0</td>\n",
       "      <td>0.0</td>\n",
       "      <td>NaN</td>\n",
       "      <td>NaN</td>\n",
       "      <td>NaN</td>\n",
       "      <td>NaN</td>\n",
       "      <td>...</td>\n",
       "      <td>NaN</td>\n",
       "      <td>NaN</td>\n",
       "      <td>NaN</td>\n",
       "      <td>27516.0</td>\n",
       "      <td>2015.0</td>\n",
       "      <td>27516.0</td>\n",
       "      <td>NaN</td>\n",
       "      <td>NaN</td>\n",
       "      <td>NaN</td>\n",
       "      <td>NaN</td>\n",
       "    </tr>\n",
       "    <tr>\n",
       "      <th>2</th>\n",
       "      <td>10843547</td>\n",
       "      <td>NaN</td>\n",
       "      <td>NaN</td>\n",
       "      <td>NaN</td>\n",
       "      <td>0.0</td>\n",
       "      <td>0.0</td>\n",
       "      <td>NaN</td>\n",
       "      <td>NaN</td>\n",
       "      <td>NaN</td>\n",
       "      <td>NaN</td>\n",
       "      <td>...</td>\n",
       "      <td>NaN</td>\n",
       "      <td>NaN</td>\n",
       "      <td>650756.0</td>\n",
       "      <td>1413387.0</td>\n",
       "      <td>2015.0</td>\n",
       "      <td>762631.0</td>\n",
       "      <td>20800.37</td>\n",
       "      <td>NaN</td>\n",
       "      <td>NaN</td>\n",
       "      <td>NaN</td>\n",
       "    </tr>\n",
       "    <tr>\n",
       "      <th>3</th>\n",
       "      <td>10859147</td>\n",
       "      <td>NaN</td>\n",
       "      <td>NaN</td>\n",
       "      <td>NaN</td>\n",
       "      <td>0.0</td>\n",
       "      <td>0.0</td>\n",
       "      <td>3.0</td>\n",
       "      <td>7.0</td>\n",
       "      <td>NaN</td>\n",
       "      <td>NaN</td>\n",
       "      <td>...</td>\n",
       "      <td>1.0</td>\n",
       "      <td>NaN</td>\n",
       "      <td>571346.0</td>\n",
       "      <td>1156834.0</td>\n",
       "      <td>2015.0</td>\n",
       "      <td>585488.0</td>\n",
       "      <td>14557.57</td>\n",
       "      <td>NaN</td>\n",
       "      <td>NaN</td>\n",
       "      <td>NaN</td>\n",
       "    </tr>\n",
       "    <tr>\n",
       "      <th>4</th>\n",
       "      <td>10879947</td>\n",
       "      <td>NaN</td>\n",
       "      <td>NaN</td>\n",
       "      <td>NaN</td>\n",
       "      <td>0.0</td>\n",
       "      <td>0.0</td>\n",
       "      <td>4.0</td>\n",
       "      <td>NaN</td>\n",
       "      <td>NaN</td>\n",
       "      <td>NaN</td>\n",
       "      <td>...</td>\n",
       "      <td>NaN</td>\n",
       "      <td>NaN</td>\n",
       "      <td>193796.0</td>\n",
       "      <td>433491.0</td>\n",
       "      <td>2015.0</td>\n",
       "      <td>239695.0</td>\n",
       "      <td>5725.17</td>\n",
       "      <td>NaN</td>\n",
       "      <td>NaN</td>\n",
       "      <td>NaN</td>\n",
       "    </tr>\n",
       "  </tbody>\n",
       "</table>\n",
       "<p>5 rows × 58 columns</p>\n",
       "</div>"
      ],
      "text/plain": [
       "   parcelid  airconditioningtypeid  architecturalstyletypeid  basementsqft  \\\n",
       "0  10754147                    NaN                       NaN           NaN   \n",
       "1  10759547                    NaN                       NaN           NaN   \n",
       "2  10843547                    NaN                       NaN           NaN   \n",
       "3  10859147                    NaN                       NaN           NaN   \n",
       "4  10879947                    NaN                       NaN           NaN   \n",
       "\n",
       "   bathroomcnt  bedroomcnt  buildingclasstypeid  buildingqualitytypeid  \\\n",
       "0          0.0         0.0                  NaN                    NaN   \n",
       "1          0.0         0.0                  NaN                    NaN   \n",
       "2          0.0         0.0                  NaN                    NaN   \n",
       "3          0.0         0.0                  3.0                    7.0   \n",
       "4          0.0         0.0                  4.0                    NaN   \n",
       "\n",
       "   calculatedbathnbr  decktypeid  ...  numberofstories  fireplaceflag  \\\n",
       "0                NaN         NaN  ...              NaN            NaN   \n",
       "1                NaN         NaN  ...              NaN            NaN   \n",
       "2                NaN         NaN  ...              NaN            NaN   \n",
       "3                NaN         NaN  ...              1.0            NaN   \n",
       "4                NaN         NaN  ...              NaN            NaN   \n",
       "\n",
       "   structuretaxvaluedollarcnt  taxvaluedollarcnt  assessmentyear  \\\n",
       "0                         NaN                9.0          2015.0   \n",
       "1                         NaN            27516.0          2015.0   \n",
       "2                    650756.0          1413387.0          2015.0   \n",
       "3                    571346.0          1156834.0          2015.0   \n",
       "4                    193796.0           433491.0          2015.0   \n",
       "\n",
       "   landtaxvaluedollarcnt  taxamount  taxdelinquencyflag  taxdelinquencyyear  \\\n",
       "0                    9.0        NaN                 NaN                 NaN   \n",
       "1                27516.0        NaN                 NaN                 NaN   \n",
       "2               762631.0   20800.37                 NaN                 NaN   \n",
       "3               585488.0   14557.57                 NaN                 NaN   \n",
       "4               239695.0    5725.17                 NaN                 NaN   \n",
       "\n",
       "   censustractandblock  \n",
       "0                  NaN  \n",
       "1                  NaN  \n",
       "2                  NaN  \n",
       "3                  NaN  \n",
       "4                  NaN  \n",
       "\n",
       "[5 rows x 58 columns]"
      ]
     },
     "execution_count": 4,
     "metadata": {},
     "output_type": "execute_result"
    }
   ],
   "source": [
    "property_2016 = pd.read_csv('../data/properties_2016.csv')\n",
    "property_2016.head()"
   ]
  },
  {
   "cell_type": "code",
   "execution_count": 5,
   "id": "93482efd",
   "metadata": {},
   "outputs": [
    {
     "name": "stderr",
     "output_type": "stream",
     "text": [
      "/opt/anaconda3/lib/python3.8/site-packages/IPython/core/interactiveshell.py:3165: DtypeWarning: Columns (49) have mixed types.Specify dtype option on import or set low_memory=False.\n",
      "  has_raised = await self.run_ast_nodes(code_ast.body, cell_name,\n"
     ]
    },
    {
     "data": {
      "text/html": [
       "<div>\n",
       "<style scoped>\n",
       "    .dataframe tbody tr th:only-of-type {\n",
       "        vertical-align: middle;\n",
       "    }\n",
       "\n",
       "    .dataframe tbody tr th {\n",
       "        vertical-align: top;\n",
       "    }\n",
       "\n",
       "    .dataframe thead th {\n",
       "        text-align: right;\n",
       "    }\n",
       "</style>\n",
       "<table border=\"1\" class=\"dataframe\">\n",
       "  <thead>\n",
       "    <tr style=\"text-align: right;\">\n",
       "      <th></th>\n",
       "      <th>parcelid</th>\n",
       "      <th>airconditioningtypeid</th>\n",
       "      <th>architecturalstyletypeid</th>\n",
       "      <th>basementsqft</th>\n",
       "      <th>bathroomcnt</th>\n",
       "      <th>bedroomcnt</th>\n",
       "      <th>buildingclasstypeid</th>\n",
       "      <th>buildingqualitytypeid</th>\n",
       "      <th>calculatedbathnbr</th>\n",
       "      <th>decktypeid</th>\n",
       "      <th>...</th>\n",
       "      <th>numberofstories</th>\n",
       "      <th>fireplaceflag</th>\n",
       "      <th>structuretaxvaluedollarcnt</th>\n",
       "      <th>taxvaluedollarcnt</th>\n",
       "      <th>assessmentyear</th>\n",
       "      <th>landtaxvaluedollarcnt</th>\n",
       "      <th>taxamount</th>\n",
       "      <th>taxdelinquencyflag</th>\n",
       "      <th>taxdelinquencyyear</th>\n",
       "      <th>censustractandblock</th>\n",
       "    </tr>\n",
       "  </thead>\n",
       "  <tbody>\n",
       "    <tr>\n",
       "      <th>0</th>\n",
       "      <td>10754147</td>\n",
       "      <td>NaN</td>\n",
       "      <td>NaN</td>\n",
       "      <td>NaN</td>\n",
       "      <td>0.0</td>\n",
       "      <td>0.0</td>\n",
       "      <td>NaN</td>\n",
       "      <td>NaN</td>\n",
       "      <td>NaN</td>\n",
       "      <td>NaN</td>\n",
       "      <td>...</td>\n",
       "      <td>NaN</td>\n",
       "      <td>NaN</td>\n",
       "      <td>NaN</td>\n",
       "      <td>9.0</td>\n",
       "      <td>2016.0</td>\n",
       "      <td>9.0</td>\n",
       "      <td>NaN</td>\n",
       "      <td>NaN</td>\n",
       "      <td>NaN</td>\n",
       "      <td>NaN</td>\n",
       "    </tr>\n",
       "    <tr>\n",
       "      <th>1</th>\n",
       "      <td>10759547</td>\n",
       "      <td>NaN</td>\n",
       "      <td>NaN</td>\n",
       "      <td>NaN</td>\n",
       "      <td>0.0</td>\n",
       "      <td>0.0</td>\n",
       "      <td>NaN</td>\n",
       "      <td>NaN</td>\n",
       "      <td>NaN</td>\n",
       "      <td>NaN</td>\n",
       "      <td>...</td>\n",
       "      <td>NaN</td>\n",
       "      <td>NaN</td>\n",
       "      <td>NaN</td>\n",
       "      <td>27516.0</td>\n",
       "      <td>2015.0</td>\n",
       "      <td>27516.0</td>\n",
       "      <td>NaN</td>\n",
       "      <td>NaN</td>\n",
       "      <td>NaN</td>\n",
       "      <td>NaN</td>\n",
       "    </tr>\n",
       "    <tr>\n",
       "      <th>2</th>\n",
       "      <td>10843547</td>\n",
       "      <td>NaN</td>\n",
       "      <td>NaN</td>\n",
       "      <td>NaN</td>\n",
       "      <td>0.0</td>\n",
       "      <td>0.0</td>\n",
       "      <td>5.0</td>\n",
       "      <td>NaN</td>\n",
       "      <td>NaN</td>\n",
       "      <td>NaN</td>\n",
       "      <td>...</td>\n",
       "      <td>1.0</td>\n",
       "      <td>NaN</td>\n",
       "      <td>660680.0</td>\n",
       "      <td>1434941.0</td>\n",
       "      <td>2016.0</td>\n",
       "      <td>774261.0</td>\n",
       "      <td>20800.37</td>\n",
       "      <td>NaN</td>\n",
       "      <td>NaN</td>\n",
       "      <td>NaN</td>\n",
       "    </tr>\n",
       "    <tr>\n",
       "      <th>3</th>\n",
       "      <td>10859147</td>\n",
       "      <td>NaN</td>\n",
       "      <td>NaN</td>\n",
       "      <td>NaN</td>\n",
       "      <td>0.0</td>\n",
       "      <td>0.0</td>\n",
       "      <td>3.0</td>\n",
       "      <td>6.0</td>\n",
       "      <td>NaN</td>\n",
       "      <td>NaN</td>\n",
       "      <td>...</td>\n",
       "      <td>1.0</td>\n",
       "      <td>NaN</td>\n",
       "      <td>580059.0</td>\n",
       "      <td>1174475.0</td>\n",
       "      <td>2016.0</td>\n",
       "      <td>594416.0</td>\n",
       "      <td>14557.57</td>\n",
       "      <td>NaN</td>\n",
       "      <td>NaN</td>\n",
       "      <td>NaN</td>\n",
       "    </tr>\n",
       "    <tr>\n",
       "      <th>4</th>\n",
       "      <td>10879947</td>\n",
       "      <td>NaN</td>\n",
       "      <td>NaN</td>\n",
       "      <td>NaN</td>\n",
       "      <td>0.0</td>\n",
       "      <td>0.0</td>\n",
       "      <td>4.0</td>\n",
       "      <td>NaN</td>\n",
       "      <td>NaN</td>\n",
       "      <td>NaN</td>\n",
       "      <td>...</td>\n",
       "      <td>1.0</td>\n",
       "      <td>NaN</td>\n",
       "      <td>196751.0</td>\n",
       "      <td>440101.0</td>\n",
       "      <td>2016.0</td>\n",
       "      <td>243350.0</td>\n",
       "      <td>5725.17</td>\n",
       "      <td>NaN</td>\n",
       "      <td>NaN</td>\n",
       "      <td>NaN</td>\n",
       "    </tr>\n",
       "  </tbody>\n",
       "</table>\n",
       "<p>5 rows × 58 columns</p>\n",
       "</div>"
      ],
      "text/plain": [
       "   parcelid  airconditioningtypeid  architecturalstyletypeid  basementsqft  \\\n",
       "0  10754147                    NaN                       NaN           NaN   \n",
       "1  10759547                    NaN                       NaN           NaN   \n",
       "2  10843547                    NaN                       NaN           NaN   \n",
       "3  10859147                    NaN                       NaN           NaN   \n",
       "4  10879947                    NaN                       NaN           NaN   \n",
       "\n",
       "   bathroomcnt  bedroomcnt  buildingclasstypeid  buildingqualitytypeid  \\\n",
       "0          0.0         0.0                  NaN                    NaN   \n",
       "1          0.0         0.0                  NaN                    NaN   \n",
       "2          0.0         0.0                  5.0                    NaN   \n",
       "3          0.0         0.0                  3.0                    6.0   \n",
       "4          0.0         0.0                  4.0                    NaN   \n",
       "\n",
       "   calculatedbathnbr  decktypeid  ...  numberofstories  fireplaceflag  \\\n",
       "0                NaN         NaN  ...              NaN            NaN   \n",
       "1                NaN         NaN  ...              NaN            NaN   \n",
       "2                NaN         NaN  ...              1.0            NaN   \n",
       "3                NaN         NaN  ...              1.0            NaN   \n",
       "4                NaN         NaN  ...              1.0            NaN   \n",
       "\n",
       "   structuretaxvaluedollarcnt  taxvaluedollarcnt  assessmentyear  \\\n",
       "0                         NaN                9.0          2016.0   \n",
       "1                         NaN            27516.0          2015.0   \n",
       "2                    660680.0          1434941.0          2016.0   \n",
       "3                    580059.0          1174475.0          2016.0   \n",
       "4                    196751.0           440101.0          2016.0   \n",
       "\n",
       "   landtaxvaluedollarcnt  taxamount  taxdelinquencyflag  taxdelinquencyyear  \\\n",
       "0                    9.0        NaN                 NaN                 NaN   \n",
       "1                27516.0        NaN                 NaN                 NaN   \n",
       "2               774261.0   20800.37                 NaN                 NaN   \n",
       "3               594416.0   14557.57                 NaN                 NaN   \n",
       "4               243350.0    5725.17                 NaN                 NaN   \n",
       "\n",
       "   censustractandblock  \n",
       "0                  NaN  \n",
       "1                  NaN  \n",
       "2                  NaN  \n",
       "3                  NaN  \n",
       "4                  NaN  \n",
       "\n",
       "[5 rows x 58 columns]"
      ]
     },
     "execution_count": 5,
     "metadata": {},
     "output_type": "execute_result"
    }
   ],
   "source": [
    "property_2017 = pd.read_csv('../data/properties_2017.csv')\n",
    "property_2017.head()"
   ]
  },
  {
   "cell_type": "markdown",
   "id": "459e13cd",
   "metadata": {},
   "source": [
    "## Prepare raw dataset from Kaggle data"
   ]
  },
  {
   "cell_type": "code",
   "execution_count": 6,
   "id": "0899f5c9",
   "metadata": {},
   "outputs": [
    {
     "data": {
      "text/plain": [
       "(5970434, 58)"
      ]
     },
     "execution_count": 6,
     "metadata": {},
     "output_type": "execute_result"
    }
   ],
   "source": [
    "df = pd.concat([property_2016, property_2017], axis = 0)\n",
    "df.shape"
   ]
  },
  {
   "cell_type": "markdown",
   "id": "d9ef334a",
   "metadata": {},
   "source": [
    "### drop two columns which have linear relationship with y value (prediction)"
   ]
  },
  {
   "cell_type": "code",
   "execution_count": 7,
   "id": "381d16d7",
   "metadata": {},
   "outputs": [
    {
     "data": {
      "text/plain": [
       "(5970434, 56)"
      ]
     },
     "execution_count": 7,
     "metadata": {},
     "output_type": "execute_result"
    }
   ],
   "source": [
    "df.drop(['structuretaxvaluedollarcnt', 'landtaxvaluedollarcnt'], axis = 1, inplace = True)\n",
    "df.shape"
   ]
  },
  {
   "cell_type": "code",
   "execution_count": 8,
   "id": "4469db54",
   "metadata": {},
   "outputs": [
    {
     "data": {
      "text/plain": [
       "Index(['parcelid', 'airconditioningtypeid', 'architecturalstyletypeid',\n",
       "       'basementsqft', 'bathroomcnt', 'bedroomcnt', 'buildingclasstypeid',\n",
       "       'buildingqualitytypeid', 'calculatedbathnbr', 'decktypeid',\n",
       "       'finishedfloor1squarefeet', 'calculatedfinishedsquarefeet',\n",
       "       'finishedsquarefeet12', 'finishedsquarefeet13', 'finishedsquarefeet15',\n",
       "       'finishedsquarefeet50', 'finishedsquarefeet6', 'fips', 'fireplacecnt',\n",
       "       'fullbathcnt', 'garagecarcnt', 'garagetotalsqft', 'hashottuborspa',\n",
       "       'heatingorsystemtypeid', 'latitude', 'longitude', 'lotsizesquarefeet',\n",
       "       'poolcnt', 'poolsizesum', 'pooltypeid10', 'pooltypeid2', 'pooltypeid7',\n",
       "       'propertycountylandusecode', 'propertylandusetypeid',\n",
       "       'propertyzoningdesc', 'rawcensustractandblock', 'regionidcity',\n",
       "       'regionidcounty', 'regionidneighborhood', 'regionidzip', 'roomcnt',\n",
       "       'storytypeid', 'threequarterbathnbr', 'typeconstructiontypeid',\n",
       "       'unitcnt', 'yardbuildingsqft17', 'yardbuildingsqft26', 'yearbuilt',\n",
       "       'numberofstories', 'fireplaceflag', 'taxvaluedollarcnt',\n",
       "       'assessmentyear', 'taxamount', 'taxdelinquencyflag',\n",
       "       'taxdelinquencyyear', 'censustractandblock'],\n",
       "      dtype='object')"
      ]
     },
     "execution_count": 8,
     "metadata": {},
     "output_type": "execute_result"
    }
   ],
   "source": [
    "df.columns"
   ]
  },
  {
   "cell_type": "code",
   "execution_count": 9,
   "id": "9b9f62f5",
   "metadata": {},
   "outputs": [
    {
     "data": {
      "text/plain": [
       "2016.0    2978602\n",
       "2015.0    2974762\n",
       "2014.0       2596\n",
       "2012.0         52\n",
       "2004.0         12\n",
       "2013.0          8\n",
       "2003.0          6\n",
       "2001.0          6\n",
       "2010.0          4\n",
       "2009.0          4\n",
       "2005.0          4\n",
       "2011.0          2\n",
       "2002.0          2\n",
       "2000.0          2\n",
       "Name: assessmentyear, dtype: int64"
      ]
     },
     "execution_count": 9,
     "metadata": {},
     "output_type": "execute_result"
    }
   ],
   "source": [
    "df['assessmentyear'].value_counts()"
   ]
  },
  {
   "cell_type": "code",
   "execution_count": 10,
   "id": "1e90083f",
   "metadata": {},
   "outputs": [],
   "source": [
    "# only use the latest data\n",
    "df = df[df['assessmentyear'] == 2016]\n",
    "df.drop('assessmentyear', axis = 1, inplace = True)"
   ]
  },
  {
   "cell_type": "code",
   "execution_count": 11,
   "id": "82985359",
   "metadata": {},
   "outputs": [
    {
     "data": {
      "text/plain": [
       "(2978602, 55)"
      ]
     },
     "execution_count": 11,
     "metadata": {},
     "output_type": "execute_result"
    }
   ],
   "source": [
    "df.shape"
   ]
  },
  {
   "cell_type": "code",
   "execution_count": 12,
   "id": "e4c737ac",
   "metadata": {},
   "outputs": [
    {
     "data": {
      "text/plain": [
       "(2947573, 55)"
      ]
     },
     "execution_count": 12,
     "metadata": {},
     "output_type": "execute_result"
    }
   ],
   "source": [
    "# y value: taxvaluedollarcn\n",
    "# remove nan of y value\n",
    "df = df[df['taxvaluedollarcnt'].notnull()]\n",
    "df.shape"
   ]
  },
  {
   "cell_type": "code",
   "execution_count": 13,
   "id": "4a6bd065",
   "metadata": {},
   "outputs": [
    {
     "data": {
      "text/plain": [
       "(2933041, 55)"
      ]
     },
     "execution_count": 13,
     "metadata": {},
     "output_type": "execute_result"
    }
   ],
   "source": [
    "df = df[df['taxvaluedollarcnt'] > 10000]\n",
    "df.shape"
   ]
  },
  {
   "cell_type": "code",
   "execution_count": 14,
   "id": "5cc799d4",
   "metadata": {},
   "outputs": [
    {
     "data": {
      "text/plain": [
       "(2933041, 55)"
      ]
     },
     "execution_count": 14,
     "metadata": {},
     "output_type": "execute_result"
    }
   ],
   "source": [
    "df['y'] = df['taxvaluedollarcnt']\n",
    "df.drop('taxvaluedollarcnt', axis = 1, inplace = True)\n",
    "df.shape"
   ]
  },
  {
   "cell_type": "code",
   "execution_count": 15,
   "id": "ccd07ca0",
   "metadata": {},
   "outputs": [
    {
     "data": {
      "text/plain": [
       "Index(['parcelid', 'airconditioningtypeid', 'architecturalstyletypeid',\n",
       "       'basementsqft', 'bathroomcnt', 'bedroomcnt', 'buildingclasstypeid',\n",
       "       'buildingqualitytypeid', 'calculatedbathnbr', 'decktypeid',\n",
       "       'finishedfloor1squarefeet', 'calculatedfinishedsquarefeet',\n",
       "       'finishedsquarefeet12', 'finishedsquarefeet13', 'finishedsquarefeet15',\n",
       "       'finishedsquarefeet50', 'finishedsquarefeet6', 'fips', 'fireplacecnt',\n",
       "       'fullbathcnt', 'garagecarcnt', 'garagetotalsqft', 'hashottuborspa',\n",
       "       'heatingorsystemtypeid', 'latitude', 'longitude', 'lotsizesquarefeet',\n",
       "       'poolcnt', 'poolsizesum', 'pooltypeid10', 'pooltypeid2', 'pooltypeid7',\n",
       "       'propertycountylandusecode', 'propertylandusetypeid',\n",
       "       'propertyzoningdesc', 'rawcensustractandblock', 'regionidcity',\n",
       "       'regionidcounty', 'regionidneighborhood', 'regionidzip', 'roomcnt',\n",
       "       'storytypeid', 'threequarterbathnbr', 'typeconstructiontypeid',\n",
       "       'unitcnt', 'yardbuildingsqft17', 'yardbuildingsqft26', 'yearbuilt',\n",
       "       'numberofstories', 'fireplaceflag', 'taxamount', 'taxdelinquencyflag',\n",
       "       'taxdelinquencyyear', 'censustractandblock', 'y'],\n",
       "      dtype='object')"
      ]
     },
     "execution_count": 15,
     "metadata": {},
     "output_type": "execute_result"
    }
   ],
   "source": [
    "df.columns"
   ]
  },
  {
   "cell_type": "markdown",
   "id": "bb92b7ea",
   "metadata": {},
   "source": [
    "# EDA"
   ]
  },
  {
   "cell_type": "code",
   "execution_count": 16,
   "id": "7df0da07",
   "metadata": {},
   "outputs": [
    {
     "data": {
      "text/plain": [
       "LAR1          274849\n",
       "LAR3           66739\n",
       "LARS           54846\n",
       "LBR1N          52738\n",
       "LAR2           48746\n",
       "               ...  \n",
       "LCR1200000         1\n",
       "1DM*               1\n",
       "MPP1*              1\n",
       "LCR2-C3*           1\n",
       "TORC-GEN           1\n",
       "Name: propertyzoningdesc, Length: 5610, dtype: int64"
      ]
     },
     "execution_count": 16,
     "metadata": {},
     "output_type": "execute_result"
    }
   ],
   "source": [
    "# remove\n",
    "df['propertyzoningdesc'].value_counts()"
   ]
  },
  {
   "cell_type": "code",
   "execution_count": 17,
   "id": "a57e0284",
   "metadata": {},
   "outputs": [
    {
     "data": {
      "text/plain": [
       "6.059052e+07    1567\n",
       "6.037920e+07    1453\n",
       "6.059063e+07     895\n",
       "6.037137e+07     886\n",
       "6.059052e+07     838\n",
       "                ... \n",
       "6.059012e+07       1\n",
       "6.037911e+07       1\n",
       "6.059074e+07       1\n",
       "6.037210e+07       1\n",
       "6.037533e+07       1\n",
       "Name: rawcensustractandblock, Length: 98796, dtype: int64"
      ]
     },
     "execution_count": 17,
     "metadata": {},
     "output_type": "execute_result"
    }
   ],
   "source": [
    "# remove\n",
    "df['rawcensustractandblock'].value_counts()"
   ]
  },
  {
   "cell_type": "code",
   "execution_count": 18,
   "id": "86f7bbf4",
   "metadata": {},
   "outputs": [
    {
     "data": {
      "text/plain": [
       "6.037920e+13    1171\n",
       "6.037137e+13     881\n",
       "6.037920e+13     807\n",
       "6.059063e+13     807\n",
       "6.059052e+13     806\n",
       "                ... \n",
       "6.037900e+13       1\n",
       "6.037405e+13       1\n",
       "6.037900e+13       1\n",
       "6.059022e+13       1\n",
       "6.037910e+13       1\n",
       "Name: censustractandblock, Length: 96571, dtype: int64"
      ]
     },
     "execution_count": 18,
     "metadata": {},
     "output_type": "execute_result"
    }
   ],
   "source": [
    "# remove\n",
    "df['censustractandblock'].value_counts()"
   ]
  },
  {
   "cell_type": "code",
   "execution_count": 19,
   "id": "543834db",
   "metadata": {},
   "outputs": [
    {
     "data": {
      "text/plain": [
       "118208.0    32207\n",
       "268496.0    23107\n",
       "48570.0     21177\n",
       "27080.0     18844\n",
       "54300.0     17622\n",
       "            ...  \n",
       "764146.0        4\n",
       "275287.0        3\n",
       "764092.0        3\n",
       "275855.0        3\n",
       "273552.0        1\n",
       "Name: regionidneighborhood, Length: 529, dtype: int64"
      ]
     },
     "execution_count": 19,
     "metadata": {},
     "output_type": "execute_result"
    }
   ],
   "source": [
    "# remove\n",
    "df['regionidneighborhood'].value_counts()"
   ]
  },
  {
   "cell_type": "code",
   "execution_count": 20,
   "id": "2540ae83",
   "metadata": {},
   "outputs": [
    {
     "name": "stdout",
     "output_type": "stream",
     "text": [
      "before drop:  (2933041, 55)\n",
      "after drop:  (2933041, 49)\n"
     ]
    }
   ],
   "source": [
    "print('before drop: ', df.shape)\n",
    "df.drop(['parcelid', 'propertycountylandusecode', 'propertyzoningdesc', 'rawcensustractandblock',\n",
    "         'censustractandblock', 'regionidneighborhood'], axis = 1, inplace = True)\n",
    "print('after drop: ', df.shape)"
   ]
  },
  {
   "cell_type": "code",
   "execution_count": 21,
   "id": "11fb7f56",
   "metadata": {},
   "outputs": [
    {
     "name": "stdout",
     "output_type": "stream",
     "text": [
      "airconditioningtypeid\n",
      "1.0     743643\n",
      "13.0     58459\n",
      "5.0       8790\n",
      "9.0       1904\n",
      "11.0      1818\n",
      "12.0        59\n",
      "3.0          7\n",
      "Name: airconditioningtypeid, dtype: int64\n",
      "==================================\n",
      "architecturalstyletypeid\n",
      "7.0     5251\n",
      "8.0      380\n",
      "2.0      201\n",
      "21.0     150\n",
      "3.0       58\n",
      "5.0       19\n",
      "27.0       1\n",
      "10.0       1\n",
      "Name: architecturalstyletypeid, dtype: int64\n",
      "==================================\n",
      "basementsqft\n",
      "1528.0    25\n",
      "240.0     21\n",
      "700.0     21\n",
      "100.0     18\n",
      "360.0     15\n",
      "          ..\n",
      "1453.0     1\n",
      "1460.0     1\n",
      "1462.0     1\n",
      "1464.0     1\n",
      "1391.0     1\n",
      "Name: basementsqft, Length: 749, dtype: int64\n",
      "==================================\n",
      "bathroomcnt\n",
      "2.00     1218979\n",
      "3.00      632646\n",
      "1.00      498282\n",
      "2.50      208655\n",
      "4.00      133700\n",
      "0.00       67209\n",
      "1.50       45723\n",
      "5.00       38432\n",
      "3.50       31820\n",
      "4.50       19862\n",
      "6.00       16353\n",
      "5.50        6269\n",
      "7.00        6195\n",
      "8.00        4525\n",
      "6.50        1352\n",
      "9.00        1329\n",
      "10.00        491\n",
      "7.50         385\n",
      "12.00        264\n",
      "11.00        199\n",
      "8.50         113\n",
      "13.00         53\n",
      "9.50          50\n",
      "14.00         39\n",
      "16.00         23\n",
      "15.00         19\n",
      "0.50          16\n",
      "10.50         14\n",
      "18.00         12\n",
      "17.00          8\n",
      "20.00          7\n",
      "1.75           4\n",
      "11.50          3\n",
      "19.00          3\n",
      "12.50          3\n",
      "14.50          1\n",
      "19.50          1\n",
      "31.00          1\n",
      "32.00          1\n",
      "Name: bathroomcnt, dtype: int64\n",
      "==================================\n",
      "bedroomcnt\n",
      "3.0     1171841\n",
      "4.0      730980\n",
      "2.0      605973\n",
      "5.0      182591\n",
      "1.0       86625\n",
      "0.0       72411\n",
      "6.0       48812\n",
      "8.0       13494\n",
      "7.0       12738\n",
      "9.0        4261\n",
      "10.0       1691\n",
      "12.0        951\n",
      "11.0        422\n",
      "13.0         83\n",
      "14.0         67\n",
      "16.0         48\n",
      "15.0         23\n",
      "17.0         11\n",
      "18.0          9\n",
      "20.0          6\n",
      "25.0          1\n",
      "21.0          1\n",
      "23.0          1\n",
      "19.0          1\n",
      "Name: bedroomcnt, dtype: int64\n",
      "==================================\n",
      "buildingclasstypeid\n",
      "4.0    9457\n",
      "3.0    3002\n",
      "2.0      82\n",
      "1.0      75\n",
      "5.0      44\n",
      "Name: buildingclasstypeid, dtype: int64\n",
      "==================================\n",
      "buildingqualitytypeid\n",
      "6.0     561308\n",
      "8.0     501859\n",
      "4.0     447615\n",
      "7.0     189546\n",
      "5.0     106912\n",
      "9.0      69411\n",
      "11.0     28487\n",
      "3.0      17815\n",
      "10.0     10567\n",
      "12.0      4117\n",
      "1.0       1717\n",
      "2.0        288\n",
      "Name: buildingqualitytypeid, dtype: int64\n",
      "==================================\n",
      "calculatedbathnbr\n",
      "2.0     1218979\n",
      "3.0      632645\n",
      "1.0      498282\n",
      "2.5      208430\n",
      "4.0      133700\n",
      "1.5       45421\n",
      "5.0       38432\n",
      "3.5       31760\n",
      "4.5       19809\n",
      "6.0       16353\n",
      "5.5        6254\n",
      "7.0        6195\n",
      "8.0        4525\n",
      "6.5        1340\n",
      "9.0        1329\n",
      "10.0        491\n",
      "7.5         382\n",
      "12.0        264\n",
      "11.0        199\n",
      "8.5         110\n",
      "13.0         53\n",
      "9.5          50\n",
      "14.0         39\n",
      "16.0         23\n",
      "15.0         19\n",
      "10.5         14\n",
      "18.0         12\n",
      "17.0          8\n",
      "20.0          7\n",
      "11.5          3\n",
      "12.5          3\n",
      "19.0          3\n",
      "19.5          1\n",
      "14.5          1\n",
      "31.0          1\n",
      "32.0          1\n",
      "Name: calculatedbathnbr, dtype: int64\n",
      "==================================\n",
      "decktypeid\n",
      "66.0    17370\n",
      "Name: decktypeid, dtype: int64\n",
      "==================================\n",
      "finishedfloor1squarefeet\n",
      "1252.0    923\n",
      "1233.0    892\n",
      "1120.0    705\n",
      "1226.0    616\n",
      "1612.0    597\n",
      "         ... \n",
      "4774.0      1\n",
      "4776.0      1\n",
      "4777.0      1\n",
      "4779.0      1\n",
      "4423.0      1\n",
      "Name: finishedfloor1squarefeet, Length: 4624, dtype: int64\n",
      "==================================\n",
      "calculatedfinishedsquarefeet\n",
      "1200.0     6592\n",
      "1440.0     5719\n",
      "1120.0     5541\n",
      "1080.0     5333\n",
      "1400.0     4705\n",
      "           ... \n",
      "11917.0       1\n",
      "11919.0       1\n",
      "11920.0       1\n",
      "11929.0       1\n",
      "9430.0        1\n",
      "Name: calculatedfinishedsquarefeet, Length: 12578, dtype: int64\n",
      "==================================\n",
      "finishedsquarefeet12\n",
      "1200.0     6240\n",
      "1120.0     5333\n",
      "1080.0     5163\n",
      "1440.0     4646\n",
      "1400.0     4516\n",
      "           ... \n",
      "10396.0       1\n",
      "10404.0       1\n",
      "10405.0       1\n",
      "10407.0       1\n",
      "8417.0        1\n",
      "Name: finishedsquarefeet12, Length: 10688, dtype: int64\n",
      "==================================\n",
      "finishedsquarefeet13\n",
      "1440.0    643\n",
      "1344.0    412\n",
      "1248.0    249\n",
      "1152.0    133\n",
      "960.0     131\n",
      "         ... \n",
      "1848.0      1\n",
      "1820.0      1\n",
      "1782.0      1\n",
      "1150.0      1\n",
      "512.0       1\n",
      "Name: finishedsquarefeet13, Length: 197, dtype: int64\n",
      "==================================\n",
      "finishedsquarefeet15\n",
      "1536.0    645\n",
      "1728.0    429\n",
      "1600.0    414\n",
      "1440.0    410\n",
      "1800.0    401\n",
      "         ... \n",
      "8868.0      1\n",
      "8869.0      1\n",
      "8872.0      1\n",
      "8876.0      1\n",
      "512.0       1\n",
      "Name: finishedsquarefeet15, Length: 8774, dtype: int64\n",
      "==================================\n",
      "finishedsquarefeet50\n",
      "1252.0    923\n",
      "1233.0    891\n",
      "1120.0    705\n",
      "1226.0    616\n",
      "1612.0    596\n",
      "         ... \n",
      "4840.0      1\n",
      "4830.0      1\n",
      "4828.0      1\n",
      "4818.0      1\n",
      "4159.0      1\n",
      "Name: finishedsquarefeet50, Length: 4887, dtype: int64\n",
      "==================================\n",
      "finishedsquarefeet6\n",
      "952.0     100\n",
      "800.0      89\n",
      "3820.0     88\n",
      "720.0      74\n",
      "600.0      66\n",
      "         ... \n",
      "1435.0      1\n",
      "3625.0      1\n",
      "3620.0      1\n",
      "3618.0      1\n",
      "2714.0      1\n",
      "Name: finishedsquarefeet6, Length: 4218, dtype: int64\n",
      "==================================\n",
      "fips\n",
      "6037.0    1981216\n",
      "6059.0     734819\n",
      "6111.0     217006\n",
      "Name: fips, dtype: int64\n",
      "==================================\n",
      "fireplacecnt\n",
      "1.0    269919\n",
      "2.0     34466\n",
      "3.0      7710\n",
      "4.0       713\n",
      "5.0       129\n",
      "6.0        34\n",
      "7.0        15\n",
      "9.0         6\n",
      "8.0         2\n",
      "Name: fireplacecnt, dtype: int64\n",
      "==================================\n",
      "fullbathcnt\n",
      "2.0     1427959\n",
      "3.0      664458\n",
      "1.0      543746\n",
      "4.0      153460\n",
      "5.0       44633\n",
      "6.0       17437\n",
      "7.0        6442\n",
      "8.0        4552\n",
      "9.0        1335\n",
      "10.0        490\n",
      "12.0        263\n",
      "11.0        196\n",
      "13.0         54\n",
      "14.0         39\n",
      "16.0         23\n",
      "15.0         18\n",
      "18.0         12\n",
      "17.0          8\n",
      "20.0          7\n",
      "19.0          4\n",
      "32.0          1\n",
      "31.0          1\n",
      "Name: fullbathcnt, dtype: int64\n",
      "==================================\n",
      "garagecarcnt\n",
      "2.0     667624\n",
      "1.0     177868\n",
      "3.0      19872\n",
      "0.0      13514\n",
      "4.0       8645\n",
      "5.0       1736\n",
      "6.0        585\n",
      "7.0        272\n",
      "8.0        181\n",
      "9.0        130\n",
      "10.0        83\n",
      "11.0        64\n",
      "12.0        41\n",
      "13.0        16\n",
      "14.0        14\n",
      "15.0        10\n",
      "17.0         4\n",
      "16.0         3\n",
      "19.0         3\n",
      "21.0         2\n",
      "20.0         2\n",
      "24.0         2\n",
      "25.0         1\n",
      "18.0         1\n",
      "Name: garagecarcnt, dtype: int64\n",
      "==================================\n",
      "garagetotalsqft\n",
      "0.0       199871\n",
      "400.0      33491\n",
      "360.0      29697\n",
      "441.0      26829\n",
      "462.0      25513\n",
      "           ...  \n",
      "2192.0         1\n",
      "2193.0         1\n",
      "2194.0         1\n",
      "2196.0         1\n",
      "2118.0         1\n",
      "Name: garagetotalsqft, Length: 2253, dtype: int64\n",
      "==================================\n",
      "hashottuborspa\n",
      "True    50047\n",
      "Name: hashottuborspa, dtype: int64\n",
      "==================================\n",
      "heatingorsystemtypeid\n",
      "2.0     1167677\n",
      "7.0      645027\n",
      "6.0       27476\n",
      "24.0      21075\n",
      "20.0       3622\n",
      "13.0       1342\n",
      "18.0        586\n",
      "1.0         262\n",
      "14.0         41\n",
      "10.0         39\n",
      "12.0         25\n",
      "11.0         16\n",
      "21.0          3\n",
      "19.0          1\n",
      "Name: heatingorsystemtypeid, dtype: int64\n",
      "==================================\n",
      "latitude\n",
      "33984600.0    859\n",
      "34056700.0    740\n",
      "33708500.0    621\n",
      "34171800.0    611\n",
      "33766300.0    568\n",
      "             ... \n",
      "33567767.0      1\n",
      "33583346.0      1\n",
      "33585154.0      1\n",
      "33614932.0      1\n",
      "34120985.0      1\n",
      "Name: latitude, Length: 851285, dtype: int64\n",
      "==================================\n",
      "longitude\n",
      "-118390000.0    1718\n",
      "-118438000.0    1585\n",
      "-118389000.0    1569\n",
      "-118433000.0    1545\n",
      "-118252000.0    1402\n",
      "                ... \n",
      "-118267338.0       1\n",
      "-118466988.0       1\n",
      "-117592341.0       1\n",
      "-119034039.0       1\n",
      "-117953201.0       1\n",
      "Name: longitude, Length: 1040833, dtype: int64\n",
      "==================================\n",
      "lotsizesquarefeet\n",
      "6000.0     44580\n",
      "5000.0     17504\n",
      "7200.0     15326\n",
      "7000.0     11859\n",
      "6500.0     11562\n",
      "           ...  \n",
      "48657.0        1\n",
      "48656.0        1\n",
      "48655.0        1\n",
      "48645.0        1\n",
      "26848.0        1\n",
      "Name: lotsizesquarefeet, Length: 69312, dtype: int64\n",
      "==================================\n",
      "poolcnt\n",
      "1.0    539346\n",
      "Name: poolcnt, dtype: int64\n",
      "==================================\n",
      "poolsizesum\n",
      "450.0     3178\n",
      "400.0      972\n",
      "480.0      917\n",
      "500.0      828\n",
      "512.0      826\n",
      "          ... \n",
      "1090.0       1\n",
      "1094.0       1\n",
      "1116.0       1\n",
      "1121.0       1\n",
      "1142.0       1\n",
      "Name: poolsizesum, Length: 907, dtype: int64\n",
      "==================================\n",
      "pooltypeid10\n",
      "1.0    16995\n",
      "Name: pooltypeid10, dtype: int64\n",
      "==================================\n",
      "pooltypeid2\n",
      "1.0    33052\n",
      "Name: pooltypeid2, dtype: int64\n",
      "==================================\n",
      "pooltypeid7\n",
      "1.0    505613\n",
      "Name: pooltypeid7, dtype: int64\n",
      "==================================\n",
      "propertylandusetypeid\n",
      "261.0    2148455\n",
      "266.0     482624\n",
      "246.0     114097\n",
      "269.0      59755\n",
      "248.0      40471\n",
      "247.0      39795\n",
      "263.0      18572\n",
      "31.0        9437\n",
      "265.0       9415\n",
      "47.0        4330\n",
      "260.0       2807\n",
      "267.0       1806\n",
      "275.0       1218\n",
      "264.0        258\n",
      "279.0          1\n",
      "Name: propertylandusetypeid, dtype: int64\n",
      "==================================\n",
      "regionidcity\n"
     ]
    },
    {
     "name": "stdout",
     "output_type": "stream",
     "text": [
      "12447.0    665629\n",
      "46298.0     92252\n",
      "16764.0     58785\n",
      "52650.0     58131\n",
      "25218.0     56096\n",
      "            ...  \n",
      "27512.0        12\n",
      "36078.0        12\n",
      "47913.0         7\n",
      "3980.0          6\n",
      "40633.0         3\n",
      "Name: regionidcity, Length: 186, dtype: int64\n",
      "==================================\n",
      "regionidcounty\n",
      "3101.0    1981216\n",
      "1286.0     734819\n",
      "2061.0     217006\n",
      "Name: regionidcounty, dtype: int64\n",
      "==================================\n",
      "regionidzip\n",
      "96987.0    22022\n",
      "96193.0    21505\n",
      "97118.0    20502\n",
      "97319.0    20121\n",
      "96964.0    19607\n",
      "           ...  \n",
      "96953.0        1\n",
      "96034.0        1\n",
      "96313.0        1\n",
      "97096.0        1\n",
      "96988.0        1\n",
      "Name: regionidzip, Length: 402, dtype: int64\n",
      "==================================\n",
      "roomcnt\n",
      "0.0     2266792\n",
      "6.0      178504\n",
      "7.0      156617\n",
      "8.0      120421\n",
      "5.0       99673\n",
      "9.0       45379\n",
      "4.0       42905\n",
      "10.0      10887\n",
      "3.0        6232\n",
      "11.0       3042\n",
      "12.0       1114\n",
      "2.0         745\n",
      "13.0        320\n",
      "14.0        157\n",
      "1.0          77\n",
      "15.0         69\n",
      "16.0         35\n",
      "18.0         22\n",
      "30.0         14\n",
      "17.0         10\n",
      "19.0          6\n",
      "21.0          4\n",
      "20.0          3\n",
      "22.0          1\n",
      "24.0          1\n",
      "96.0          1\n",
      "40.0          1\n",
      "42.0          1\n",
      "45.0          1\n",
      "52.0          1\n",
      "56.0          1\n",
      "67.0          1\n",
      "77.0          1\n",
      "84.0          1\n",
      "86.0          1\n",
      "31.0          1\n",
      "Name: roomcnt, dtype: int64\n",
      "==================================\n",
      "storytypeid\n",
      "7.0    1614\n",
      "Name: storytypeid, dtype: int64\n",
      "==================================\n",
      "threequarterbathnbr\n",
      "1.0    313290\n",
      "2.0      2547\n",
      "3.0       268\n",
      "4.0        48\n",
      "5.0        18\n",
      "6.0         9\n",
      "7.0         2\n",
      "Name: threequarterbathnbr, dtype: int64\n",
      "==================================\n",
      "typeconstructiontypeid\n",
      "6.0     6669\n",
      "4.0       59\n",
      "13.0      14\n",
      "10.0       3\n",
      "11.0       1\n",
      "Name: typeconstructiontypeid, dtype: int64\n",
      "==================================\n",
      "unitcnt\n",
      "1.0      1781578\n",
      "2.0       115497\n",
      "4.0        39820\n",
      "3.0        39774\n",
      "5.0          317\n",
      "          ...   \n",
      "113.0          1\n",
      "112.0          1\n",
      "106.0          1\n",
      "53.0           1\n",
      "256.0          1\n",
      "Name: unitcnt, Length: 153, dtype: int64\n",
      "==================================\n",
      "yardbuildingsqft17\n",
      "240.0     3202\n",
      "200.0     3080\n",
      "300.0     2278\n",
      "180.0     1509\n",
      "288.0     1452\n",
      "          ... \n",
      "851.0        1\n",
      "1985.0       1\n",
      "1434.0       1\n",
      "1425.0       1\n",
      "1908.0       1\n",
      "Name: yardbuildingsqft17, Length: 1664, dtype: int64\n",
      "==================================\n",
      "yardbuildingsqft26\n",
      "120.0    90\n",
      "100.0    69\n",
      "240.0    61\n",
      "160.0    55\n",
      "80.0     53\n",
      "         ..\n",
      "79.0      1\n",
      "83.0      1\n",
      "86.0      1\n",
      "89.0      1\n",
      "512.0     1\n",
      "Name: yardbuildingsqft26, Length: 594, dtype: int64\n",
      "==================================\n",
      "yearbuilt\n",
      "1955.0    88455\n",
      "1950.0    76014\n",
      "1954.0    73191\n",
      "1953.0    66969\n",
      "1956.0    65629\n",
      "          ...  \n",
      "1829.0        1\n",
      "1833.0        1\n",
      "1834.0        1\n",
      "1852.0        1\n",
      "1827.0        1\n",
      "Name: yearbuilt, Length: 183, dtype: int64\n",
      "==================================\n",
      "numberofstories\n",
      "1.0     426428\n",
      "2.0     242998\n",
      "3.0      15701\n",
      "4.0         68\n",
      "5.0         18\n",
      "6.0          4\n",
      "7.0          2\n",
      "41.0         1\n",
      "20.0         1\n",
      "17.0         1\n",
      "14.0         1\n",
      "8.0          1\n",
      "Name: numberofstories, dtype: int64\n",
      "==================================\n",
      "fireplaceflag\n",
      "True    5163\n",
      "Name: fireplaceflag, dtype: int64\n",
      "==================================\n",
      "taxamount\n",
      "345.72      173\n",
      "1844.16     124\n",
      "1045.88     111\n",
      "1481.24     101\n",
      "2264.43      89\n",
      "           ... \n",
      "27590.74      1\n",
      "18240.63      1\n",
      "322.94        1\n",
      "323.06        1\n",
      "31166.22      1\n",
      "Name: taxamount, Length: 1036199, dtype: int64\n",
      "==================================\n",
      "taxdelinquencyflag\n",
      "Y    56226\n",
      "Name: taxdelinquencyflag, dtype: int64\n",
      "==================================\n",
      "taxdelinquencyyear\n",
      "15.0    26007\n",
      "14.0    16765\n",
      "13.0     4607\n",
      "12.0     3109\n",
      "11.0     2335\n",
      "10.0     1537\n",
      "9.0      1006\n",
      "8.0       498\n",
      "7.0       235\n",
      "6.0        65\n",
      "5.0        20\n",
      "4.0        10\n",
      "3.0         4\n",
      "2.0         4\n",
      "92.0        4\n",
      "99.0        3\n",
      "98.0        3\n",
      "79.0        2\n",
      "90.0        2\n",
      "95.0        2\n",
      "0.0         2\n",
      "1.0         2\n",
      "82.0        1\n",
      "87.0        1\n",
      "91.0        1\n",
      "94.0        1\n",
      "96.0        1\n",
      "97.0        1\n",
      "Name: taxdelinquencyyear, dtype: int64\n",
      "==================================\n",
      "y\n",
      "450000.0    1451\n",
      "400000.0    1364\n",
      "500000.0    1279\n",
      "480000.0    1129\n",
      "440000.0    1119\n",
      "            ... \n",
      "465544.0       1\n",
      "465545.0       1\n",
      "465555.0       1\n",
      "465558.0       1\n",
      "547428.0       1\n",
      "Name: y, Length: 654467, dtype: int64\n",
      "==================================\n"
     ]
    }
   ],
   "source": [
    "for col in df.columns:\n",
    "    print(col)\n",
    "    print(df[col].value_counts())\n",
    "    print(\"==================================\")"
   ]
  },
  {
   "cell_type": "code",
   "execution_count": 22,
   "id": "4cad4083",
   "metadata": {},
   "outputs": [],
   "source": [
    "cat_col = ['airconditioningtypeid', 'architecturalstyletypeid', 'buildingclasstypeid', 'buildingqualitytypeid',\n",
    "           'decktypeid', 'fips', 'hashottuborspa', 'heatingorsystemtypeid', 'poolcnt', 'poolsizesum', \n",
    "           'pooltypeid10', 'pooltypeid2', 'pooltypeid7', 'propertylandusetypeid', 'regionidcounty', \n",
    "           'storytypeid', 'typeconstructiontypeid', 'fireplaceflag', 'taxdelinquencyflag']\n",
    "\n",
    "numeric_col = ['basementsqft', 'bathroomcnt', 'bedroomcnt', 'calculatedbathnbr', 'finishedfloor1squarefeet', \n",
    "               'calculatedfinishedsquarefeet', 'finishedsquarefeet12', 'finishedsquarefeet13', \n",
    "               'finishedsquarefeet15', 'finishedsquarefeet50', 'finishedsquarefeet6', 'fireplacecnt', \n",
    "               'fullbathcnt', 'garagecarcnt', 'garagetotalsqft', 'latitude', 'longitude', 'lotsizesquarefeet', \n",
    "               'roomcnt', 'threequarterbathnbr', 'unitcnt', 'yardbuildingsqft17', 'yardbuildingsqft26', \n",
    "               'yearbuilt', 'numberofstories', 'regionidcity', 'taxamount', 'taxdelinquencyyear', 'regionidzip']"
   ]
  },
  {
   "cell_type": "code",
   "execution_count": 23,
   "id": "7246f046",
   "metadata": {},
   "outputs": [
    {
     "name": "stdout",
     "output_type": "stream",
     "text": [
      "length of category column:  19\n"
     ]
    }
   ],
   "source": [
    "print('length of category column: ', len(cat_col))"
   ]
  },
  {
   "cell_type": "code",
   "execution_count": 24,
   "id": "adba3de4",
   "metadata": {},
   "outputs": [
    {
     "name": "stdout",
     "output_type": "stream",
     "text": [
      "length of numeric column:  29\n"
     ]
    }
   ],
   "source": [
    "print('length of numeric column: ', len(numeric_col))"
   ]
  },
  {
   "cell_type": "code",
   "execution_count": 25,
   "id": "058a137c",
   "metadata": {},
   "outputs": [
    {
     "name": "stdout",
     "output_type": "stream",
     "text": [
      "<class 'pandas.core.frame.DataFrame'>\n",
      "Int64Index: 2933041 entries, 1530043 to 2982283\n",
      "Data columns (total 49 columns):\n",
      " #   Column                        Dtype  \n",
      "---  ------                        -----  \n",
      " 0   airconditioningtypeid         float64\n",
      " 1   architecturalstyletypeid      float64\n",
      " 2   basementsqft                  float64\n",
      " 3   bathroomcnt                   float64\n",
      " 4   bedroomcnt                    float64\n",
      " 5   buildingclasstypeid           float64\n",
      " 6   buildingqualitytypeid         float64\n",
      " 7   calculatedbathnbr             float64\n",
      " 8   decktypeid                    float64\n",
      " 9   finishedfloor1squarefeet      float64\n",
      " 10  calculatedfinishedsquarefeet  float64\n",
      " 11  finishedsquarefeet12          float64\n",
      " 12  finishedsquarefeet13          float64\n",
      " 13  finishedsquarefeet15          float64\n",
      " 14  finishedsquarefeet50          float64\n",
      " 15  finishedsquarefeet6           float64\n",
      " 16  fips                          float64\n",
      " 17  fireplacecnt                  float64\n",
      " 18  fullbathcnt                   float64\n",
      " 19  garagecarcnt                  float64\n",
      " 20  garagetotalsqft               float64\n",
      " 21  hashottuborspa                object \n",
      " 22  heatingorsystemtypeid         float64\n",
      " 23  latitude                      float64\n",
      " 24  longitude                     float64\n",
      " 25  lotsizesquarefeet             float64\n",
      " 26  poolcnt                       float64\n",
      " 27  poolsizesum                   float64\n",
      " 28  pooltypeid10                  float64\n",
      " 29  pooltypeid2                   float64\n",
      " 30  pooltypeid7                   float64\n",
      " 31  propertylandusetypeid         float64\n",
      " 32  regionidcity                  float64\n",
      " 33  regionidcounty                float64\n",
      " 34  regionidzip                   float64\n",
      " 35  roomcnt                       float64\n",
      " 36  storytypeid                   float64\n",
      " 37  threequarterbathnbr           float64\n",
      " 38  typeconstructiontypeid        float64\n",
      " 39  unitcnt                       float64\n",
      " 40  yardbuildingsqft17            float64\n",
      " 41  yardbuildingsqft26            float64\n",
      " 42  yearbuilt                     float64\n",
      " 43  numberofstories               float64\n",
      " 44  fireplaceflag                 object \n",
      " 45  taxamount                     float64\n",
      " 46  taxdelinquencyflag            object \n",
      " 47  taxdelinquencyyear            float64\n",
      " 48  y                             float64\n",
      "dtypes: float64(46), object(3)\n",
      "memory usage: 1.1+ GB\n",
      "None\n"
     ]
    }
   ],
   "source": [
    "print(df.info())"
   ]
  },
  {
   "cell_type": "code",
   "execution_count": 26,
   "id": "3d30f0e9",
   "metadata": {},
   "outputs": [],
   "source": [
    "df.reset_index(inplace = True, drop = True)"
   ]
  },
  {
   "cell_type": "markdown",
   "id": "12d10c2a",
   "metadata": {},
   "source": [
    "## Data cleaning: Numeric columns   \n",
    "(1) drop columns which have more than 90% of missing values.   \n",
    "(2) fill nan values with mean values of each columns."
   ]
  },
  {
   "cell_type": "code",
   "execution_count": 27,
   "id": "f491b964",
   "metadata": {},
   "outputs": [],
   "source": [
    "cat_property = df[cat_col]\n",
    "numeric_property = df[numeric_col]"
   ]
  },
  {
   "cell_type": "code",
   "execution_count": 28,
   "id": "0a4f53a3",
   "metadata": {},
   "outputs": [
    {
     "data": {
      "text/html": [
       "<div>\n",
       "<style scoped>\n",
       "    .dataframe tbody tr th:only-of-type {\n",
       "        vertical-align: middle;\n",
       "    }\n",
       "\n",
       "    .dataframe tbody tr th {\n",
       "        vertical-align: top;\n",
       "    }\n",
       "\n",
       "    .dataframe thead th {\n",
       "        text-align: right;\n",
       "    }\n",
       "</style>\n",
       "<table border=\"1\" class=\"dataframe\">\n",
       "  <thead>\n",
       "    <tr style=\"text-align: right;\">\n",
       "      <th></th>\n",
       "      <th>Total</th>\n",
       "      <th>Percent</th>\n",
       "    </tr>\n",
       "  </thead>\n",
       "  <tbody>\n",
       "    <tr>\n",
       "      <th>basementsqft</th>\n",
       "      <td>2931423</td>\n",
       "      <td>0.999448</td>\n",
       "    </tr>\n",
       "    <tr>\n",
       "      <th>yardbuildingsqft26</th>\n",
       "      <td>2930400</td>\n",
       "      <td>0.999100</td>\n",
       "    </tr>\n",
       "    <tr>\n",
       "      <th>finishedsquarefeet13</th>\n",
       "      <td>2929602</td>\n",
       "      <td>0.998827</td>\n",
       "    </tr>\n",
       "    <tr>\n",
       "      <th>finishedsquarefeet6</th>\n",
       "      <td>2911722</td>\n",
       "      <td>0.992731</td>\n",
       "    </tr>\n",
       "    <tr>\n",
       "      <th>taxdelinquencyyear</th>\n",
       "      <td>2876813</td>\n",
       "      <td>0.980829</td>\n",
       "    </tr>\n",
       "    <tr>\n",
       "      <th>yardbuildingsqft17</th>\n",
       "      <td>2851473</td>\n",
       "      <td>0.972190</td>\n",
       "    </tr>\n",
       "    <tr>\n",
       "      <th>finishedsquarefeet15</th>\n",
       "      <td>2743399</td>\n",
       "      <td>0.935343</td>\n",
       "    </tr>\n",
       "    <tr>\n",
       "      <th>finishedfloor1squarefeet</th>\n",
       "      <td>2729381</td>\n",
       "      <td>0.930564</td>\n",
       "    </tr>\n",
       "    <tr>\n",
       "      <th>finishedsquarefeet50</th>\n",
       "      <td>2729381</td>\n",
       "      <td>0.930564</td>\n",
       "    </tr>\n",
       "    <tr>\n",
       "      <th>fireplacecnt</th>\n",
       "      <td>2620047</td>\n",
       "      <td>0.893287</td>\n",
       "    </tr>\n",
       "    <tr>\n",
       "      <th>threequarterbathnbr</th>\n",
       "      <td>2616859</td>\n",
       "      <td>0.892200</td>\n",
       "    </tr>\n",
       "    <tr>\n",
       "      <th>numberofstories</th>\n",
       "      <td>2247817</td>\n",
       "      <td>0.766378</td>\n",
       "    </tr>\n",
       "    <tr>\n",
       "      <th>garagecarcnt</th>\n",
       "      <td>2042368</td>\n",
       "      <td>0.696331</td>\n",
       "    </tr>\n",
       "    <tr>\n",
       "      <th>garagetotalsqft</th>\n",
       "      <td>2042368</td>\n",
       "      <td>0.696331</td>\n",
       "    </tr>\n",
       "    <tr>\n",
       "      <th>unitcnt</th>\n",
       "      <td>954832</td>\n",
       "      <td>0.325543</td>\n",
       "    </tr>\n",
       "    <tr>\n",
       "      <th>finishedsquarefeet12</th>\n",
       "      <td>240442</td>\n",
       "      <td>0.081977</td>\n",
       "    </tr>\n",
       "    <tr>\n",
       "      <th>lotsizesquarefeet</th>\n",
       "      <td>227543</td>\n",
       "      <td>0.077579</td>\n",
       "    </tr>\n",
       "    <tr>\n",
       "      <th>fullbathcnt</th>\n",
       "      <td>67903</td>\n",
       "      <td>0.023151</td>\n",
       "    </tr>\n",
       "    <tr>\n",
       "      <th>calculatedbathnbr</th>\n",
       "      <td>67903</td>\n",
       "      <td>0.023151</td>\n",
       "    </tr>\n",
       "    <tr>\n",
       "      <th>regionidcity</th>\n",
       "      <td>55772</td>\n",
       "      <td>0.019015</td>\n",
       "    </tr>\n",
       "    <tr>\n",
       "      <th>yearbuilt</th>\n",
       "      <td>29483</td>\n",
       "      <td>0.010052</td>\n",
       "    </tr>\n",
       "    <tr>\n",
       "      <th>calculatedfinishedsquarefeet</th>\n",
       "      <td>26045</td>\n",
       "      <td>0.008880</td>\n",
       "    </tr>\n",
       "    <tr>\n",
       "      <th>regionidzip</th>\n",
       "      <td>7944</td>\n",
       "      <td>0.002708</td>\n",
       "    </tr>\n",
       "    <tr>\n",
       "      <th>taxamount</th>\n",
       "      <td>3184</td>\n",
       "      <td>0.001086</td>\n",
       "    </tr>\n",
       "    <tr>\n",
       "      <th>latitude</th>\n",
       "      <td>0</td>\n",
       "      <td>0.000000</td>\n",
       "    </tr>\n",
       "    <tr>\n",
       "      <th>longitude</th>\n",
       "      <td>0</td>\n",
       "      <td>0.000000</td>\n",
       "    </tr>\n",
       "    <tr>\n",
       "      <th>roomcnt</th>\n",
       "      <td>0</td>\n",
       "      <td>0.000000</td>\n",
       "    </tr>\n",
       "    <tr>\n",
       "      <th>bedroomcnt</th>\n",
       "      <td>0</td>\n",
       "      <td>0.000000</td>\n",
       "    </tr>\n",
       "    <tr>\n",
       "      <th>bathroomcnt</th>\n",
       "      <td>0</td>\n",
       "      <td>0.000000</td>\n",
       "    </tr>\n",
       "  </tbody>\n",
       "</table>\n",
       "</div>"
      ],
      "text/plain": [
       "                                Total   Percent\n",
       "basementsqft                  2931423  0.999448\n",
       "yardbuildingsqft26            2930400  0.999100\n",
       "finishedsquarefeet13          2929602  0.998827\n",
       "finishedsquarefeet6           2911722  0.992731\n",
       "taxdelinquencyyear            2876813  0.980829\n",
       "yardbuildingsqft17            2851473  0.972190\n",
       "finishedsquarefeet15          2743399  0.935343\n",
       "finishedfloor1squarefeet      2729381  0.930564\n",
       "finishedsquarefeet50          2729381  0.930564\n",
       "fireplacecnt                  2620047  0.893287\n",
       "threequarterbathnbr           2616859  0.892200\n",
       "numberofstories               2247817  0.766378\n",
       "garagecarcnt                  2042368  0.696331\n",
       "garagetotalsqft               2042368  0.696331\n",
       "unitcnt                        954832  0.325543\n",
       "finishedsquarefeet12           240442  0.081977\n",
       "lotsizesquarefeet              227543  0.077579\n",
       "fullbathcnt                     67903  0.023151\n",
       "calculatedbathnbr               67903  0.023151\n",
       "regionidcity                    55772  0.019015\n",
       "yearbuilt                       29483  0.010052\n",
       "calculatedfinishedsquarefeet    26045  0.008880\n",
       "regionidzip                      7944  0.002708\n",
       "taxamount                        3184  0.001086\n",
       "latitude                            0  0.000000\n",
       "longitude                           0  0.000000\n",
       "roomcnt                             0  0.000000\n",
       "bedroomcnt                          0  0.000000\n",
       "bathroomcnt                         0  0.000000"
      ]
     },
     "execution_count": 28,
     "metadata": {},
     "output_type": "execute_result"
    }
   ],
   "source": [
    "total = numeric_property.isnull().sum().sort_values(ascending=False)\n",
    "percent = (numeric_property.isnull().sum()/numeric_property.isnull().count()).sort_values(ascending=False)\n",
    "missing_data = pd.concat([total, percent], axis=1, keys=['Total', 'Percent'])\n",
    "missing_data.head(31)"
   ]
  },
  {
   "cell_type": "code",
   "execution_count": 29,
   "id": "80e4d471",
   "metadata": {},
   "outputs": [],
   "source": [
    "# remove the columns the percentage of null value of which is larger than 90%\n",
    "df.drop(['basementsqft', 'yardbuildingsqft26', 'finishedsquarefeet13', 'finishedsquarefeet6',\n",
    "        'taxdelinquencyyear', 'yardbuildingsqft17', 'finishedsquarefeet15', 'finishedfloor1squarefeet',\n",
    "        'finishedsquarefeet50'], axis = 1, inplace = True)"
   ]
  },
  {
   "cell_type": "code",
   "execution_count": 30,
   "id": "74bbbac1",
   "metadata": {},
   "outputs": [
    {
     "name": "stdout",
     "output_type": "stream",
     "text": [
      "['bathroomcnt', 'bedroomcnt', 'calculatedbathnbr', 'calculatedfinishedsquarefeet', 'finishedsquarefeet12', 'fireplacecnt', 'fullbathcnt', 'garagecarcnt', 'garagetotalsqft', 'latitude', 'longitude', 'lotsizesquarefeet', 'regionidcity', 'regionidzip', 'roomcnt', 'threequarterbathnbr', 'unitcnt', 'yearbuilt', 'numberofstories', 'taxamount', 'y']\n"
     ]
    }
   ],
   "source": [
    "numeric_col = []\n",
    "for col in df.columns:\n",
    "    if col not in cat_col:\n",
    "        numeric_col.append(col)\n",
    "print(numeric_col)"
   ]
  },
  {
   "cell_type": "code",
   "execution_count": 31,
   "id": "fbb75eab",
   "metadata": {},
   "outputs": [
    {
     "data": {
      "text/html": [
       "<div>\n",
       "<style scoped>\n",
       "    .dataframe tbody tr th:only-of-type {\n",
       "        vertical-align: middle;\n",
       "    }\n",
       "\n",
       "    .dataframe tbody tr th {\n",
       "        vertical-align: top;\n",
       "    }\n",
       "\n",
       "    .dataframe thead th {\n",
       "        text-align: right;\n",
       "    }\n",
       "</style>\n",
       "<table border=\"1\" class=\"dataframe\">\n",
       "  <thead>\n",
       "    <tr style=\"text-align: right;\">\n",
       "      <th></th>\n",
       "      <th>Total</th>\n",
       "      <th>Percent</th>\n",
       "    </tr>\n",
       "  </thead>\n",
       "  <tbody>\n",
       "    <tr>\n",
       "      <th>fireplacecnt</th>\n",
       "      <td>2620047</td>\n",
       "      <td>0.893287</td>\n",
       "    </tr>\n",
       "    <tr>\n",
       "      <th>threequarterbathnbr</th>\n",
       "      <td>2616859</td>\n",
       "      <td>0.892200</td>\n",
       "    </tr>\n",
       "    <tr>\n",
       "      <th>numberofstories</th>\n",
       "      <td>2247817</td>\n",
       "      <td>0.766378</td>\n",
       "    </tr>\n",
       "    <tr>\n",
       "      <th>garagecarcnt</th>\n",
       "      <td>2042368</td>\n",
       "      <td>0.696331</td>\n",
       "    </tr>\n",
       "    <tr>\n",
       "      <th>garagetotalsqft</th>\n",
       "      <td>2042368</td>\n",
       "      <td>0.696331</td>\n",
       "    </tr>\n",
       "  </tbody>\n",
       "</table>\n",
       "</div>"
      ],
      "text/plain": [
       "                       Total   Percent\n",
       "fireplacecnt         2620047  0.893287\n",
       "threequarterbathnbr  2616859  0.892200\n",
       "numberofstories      2247817  0.766378\n",
       "garagecarcnt         2042368  0.696331\n",
       "garagetotalsqft      2042368  0.696331"
      ]
     },
     "execution_count": 31,
     "metadata": {},
     "output_type": "execute_result"
    }
   ],
   "source": [
    "numeric_property = df[numeric_col]\n",
    "total = numeric_property.isnull().sum().sort_values(ascending=False)\n",
    "percent = (numeric_property.isnull().sum()/numeric_property.isnull().count()).sort_values(ascending=False)\n",
    "missing_data = pd.concat([total, percent], axis=1, keys=['Total', 'Percent'])\n",
    "missing_data.head()"
   ]
  },
  {
   "cell_type": "code",
   "execution_count": 32,
   "id": "4be1146a",
   "metadata": {},
   "outputs": [],
   "source": [
    "# replace null with mean value\n",
    "df[numeric_col] = df[numeric_col].fillna(df[numeric_col].mean())"
   ]
  },
  {
   "cell_type": "code",
   "execution_count": 33,
   "id": "a91f2a1f",
   "metadata": {},
   "outputs": [
    {
     "data": {
      "text/html": [
       "<div>\n",
       "<style scoped>\n",
       "    .dataframe tbody tr th:only-of-type {\n",
       "        vertical-align: middle;\n",
       "    }\n",
       "\n",
       "    .dataframe tbody tr th {\n",
       "        vertical-align: top;\n",
       "    }\n",
       "\n",
       "    .dataframe thead th {\n",
       "        text-align: right;\n",
       "    }\n",
       "</style>\n",
       "<table border=\"1\" class=\"dataframe\">\n",
       "  <thead>\n",
       "    <tr style=\"text-align: right;\">\n",
       "      <th></th>\n",
       "      <th>Total</th>\n",
       "      <th>Percent</th>\n",
       "    </tr>\n",
       "  </thead>\n",
       "  <tbody>\n",
       "    <tr>\n",
       "      <th>y</th>\n",
       "      <td>0</td>\n",
       "      <td>0.0</td>\n",
       "    </tr>\n",
       "    <tr>\n",
       "      <th>latitude</th>\n",
       "      <td>0</td>\n",
       "      <td>0.0</td>\n",
       "    </tr>\n",
       "    <tr>\n",
       "      <th>bedroomcnt</th>\n",
       "      <td>0</td>\n",
       "      <td>0.0</td>\n",
       "    </tr>\n",
       "    <tr>\n",
       "      <th>calculatedbathnbr</th>\n",
       "      <td>0</td>\n",
       "      <td>0.0</td>\n",
       "    </tr>\n",
       "    <tr>\n",
       "      <th>calculatedfinishedsquarefeet</th>\n",
       "      <td>0</td>\n",
       "      <td>0.0</td>\n",
       "    </tr>\n",
       "  </tbody>\n",
       "</table>\n",
       "</div>"
      ],
      "text/plain": [
       "                              Total  Percent\n",
       "y                                 0      0.0\n",
       "latitude                          0      0.0\n",
       "bedroomcnt                        0      0.0\n",
       "calculatedbathnbr                 0      0.0\n",
       "calculatedfinishedsquarefeet      0      0.0"
      ]
     },
     "execution_count": 33,
     "metadata": {},
     "output_type": "execute_result"
    }
   ],
   "source": [
    "numeric_property = df[numeric_col]\n",
    "total = numeric_property.isnull().sum().sort_values(ascending=False)\n",
    "percent = (numeric_property.isnull().sum()/numeric_property.isnull().count()).sort_values(ascending=False)\n",
    "missing_data = pd.concat([total, percent], axis=1, keys=['Total', 'Percent'])\n",
    "missing_data.head()"
   ]
  },
  {
   "cell_type": "code",
   "execution_count": 34,
   "id": "00268a1a",
   "metadata": {},
   "outputs": [
    {
     "data": {
      "text/plain": [
       "21"
      ]
     },
     "execution_count": 34,
     "metadata": {},
     "output_type": "execute_result"
    }
   ],
   "source": [
    "len(numeric_col)"
   ]
  },
  {
   "cell_type": "markdown",
   "id": "41cf9a75",
   "metadata": {},
   "source": [
    "## Category columns"
   ]
  },
  {
   "cell_type": "code",
   "execution_count": 35,
   "id": "c115cfce",
   "metadata": {},
   "outputs": [
    {
     "data": {
      "text/html": [
       "<div>\n",
       "<style scoped>\n",
       "    .dataframe tbody tr th:only-of-type {\n",
       "        vertical-align: middle;\n",
       "    }\n",
       "\n",
       "    .dataframe tbody tr th {\n",
       "        vertical-align: top;\n",
       "    }\n",
       "\n",
       "    .dataframe thead th {\n",
       "        text-align: right;\n",
       "    }\n",
       "</style>\n",
       "<table border=\"1\" class=\"dataframe\">\n",
       "  <thead>\n",
       "    <tr style=\"text-align: right;\">\n",
       "      <th></th>\n",
       "      <th>Total</th>\n",
       "      <th>Percent</th>\n",
       "    </tr>\n",
       "  </thead>\n",
       "  <tbody>\n",
       "    <tr>\n",
       "      <th>storytypeid</th>\n",
       "      <td>2931427</td>\n",
       "      <td>0.999450</td>\n",
       "    </tr>\n",
       "    <tr>\n",
       "      <th>fireplaceflag</th>\n",
       "      <td>2927878</td>\n",
       "      <td>0.998240</td>\n",
       "    </tr>\n",
       "    <tr>\n",
       "      <th>architecturalstyletypeid</th>\n",
       "      <td>2926980</td>\n",
       "      <td>0.997934</td>\n",
       "    </tr>\n",
       "    <tr>\n",
       "      <th>typeconstructiontypeid</th>\n",
       "      <td>2926295</td>\n",
       "      <td>0.997700</td>\n",
       "    </tr>\n",
       "    <tr>\n",
       "      <th>buildingclasstypeid</th>\n",
       "      <td>2920381</td>\n",
       "      <td>0.995684</td>\n",
       "    </tr>\n",
       "    <tr>\n",
       "      <th>pooltypeid10</th>\n",
       "      <td>2916046</td>\n",
       "      <td>0.994206</td>\n",
       "    </tr>\n",
       "    <tr>\n",
       "      <th>decktypeid</th>\n",
       "      <td>2915671</td>\n",
       "      <td>0.994078</td>\n",
       "    </tr>\n",
       "    <tr>\n",
       "      <th>poolsizesum</th>\n",
       "      <td>2905086</td>\n",
       "      <td>0.990469</td>\n",
       "    </tr>\n",
       "    <tr>\n",
       "      <th>pooltypeid2</th>\n",
       "      <td>2899989</td>\n",
       "      <td>0.988731</td>\n",
       "    </tr>\n",
       "    <tr>\n",
       "      <th>hashottuborspa</th>\n",
       "      <td>2882994</td>\n",
       "      <td>0.982937</td>\n",
       "    </tr>\n",
       "    <tr>\n",
       "      <th>taxdelinquencyflag</th>\n",
       "      <td>2876815</td>\n",
       "      <td>0.980830</td>\n",
       "    </tr>\n",
       "    <tr>\n",
       "      <th>pooltypeid7</th>\n",
       "      <td>2427428</td>\n",
       "      <td>0.827615</td>\n",
       "    </tr>\n",
       "    <tr>\n",
       "      <th>poolcnt</th>\n",
       "      <td>2393695</td>\n",
       "      <td>0.816114</td>\n",
       "    </tr>\n",
       "    <tr>\n",
       "      <th>airconditioningtypeid</th>\n",
       "      <td>2118361</td>\n",
       "      <td>0.722241</td>\n",
       "    </tr>\n",
       "    <tr>\n",
       "      <th>heatingorsystemtypeid</th>\n",
       "      <td>1065849</td>\n",
       "      <td>0.363394</td>\n",
       "    </tr>\n",
       "    <tr>\n",
       "      <th>buildingqualitytypeid</th>\n",
       "      <td>993399</td>\n",
       "      <td>0.338693</td>\n",
       "    </tr>\n",
       "    <tr>\n",
       "      <th>fips</th>\n",
       "      <td>0</td>\n",
       "      <td>0.000000</td>\n",
       "    </tr>\n",
       "    <tr>\n",
       "      <th>propertylandusetypeid</th>\n",
       "      <td>0</td>\n",
       "      <td>0.000000</td>\n",
       "    </tr>\n",
       "    <tr>\n",
       "      <th>regionidcounty</th>\n",
       "      <td>0</td>\n",
       "      <td>0.000000</td>\n",
       "    </tr>\n",
       "  </tbody>\n",
       "</table>\n",
       "</div>"
      ],
      "text/plain": [
       "                            Total   Percent\n",
       "storytypeid               2931427  0.999450\n",
       "fireplaceflag             2927878  0.998240\n",
       "architecturalstyletypeid  2926980  0.997934\n",
       "typeconstructiontypeid    2926295  0.997700\n",
       "buildingclasstypeid       2920381  0.995684\n",
       "pooltypeid10              2916046  0.994206\n",
       "decktypeid                2915671  0.994078\n",
       "poolsizesum               2905086  0.990469\n",
       "pooltypeid2               2899989  0.988731\n",
       "hashottuborspa            2882994  0.982937\n",
       "taxdelinquencyflag        2876815  0.980830\n",
       "pooltypeid7               2427428  0.827615\n",
       "poolcnt                   2393695  0.816114\n",
       "airconditioningtypeid     2118361  0.722241\n",
       "heatingorsystemtypeid     1065849  0.363394\n",
       "buildingqualitytypeid      993399  0.338693\n",
       "fips                            0  0.000000\n",
       "propertylandusetypeid           0  0.000000\n",
       "regionidcounty                  0  0.000000"
      ]
     },
     "execution_count": 35,
     "metadata": {},
     "output_type": "execute_result"
    }
   ],
   "source": [
    "cat_property = df[cat_col]\n",
    "total = cat_property.isnull().sum().sort_values(ascending=False)\n",
    "percent = (cat_property.isnull().sum()/cat_property.isnull().count()).sort_values(ascending=False)\n",
    "missing_data = pd.concat([total, percent], axis=1, keys=['Total', 'Percent'])\n",
    "missing_data.head(len(cat_col))"
   ]
  },
  {
   "cell_type": "markdown",
   "id": "91215123",
   "metadata": {},
   "source": [
    "BuildingClassTypeID  \n",
    "1\tBuildings having fireproofed structural steel frames carrying all wall, floor and roof loads. Wall, floor and roof structures are built of non-combustible materials.  \n",
    "2\tBuildings having fireproofed reinforced concrete frames carrying all wall floor and roof loads which are all non-combustible.  \n",
    "3\tBuildings having exterior walls built of a non-combustible material such as brick, concrete, block or poured concrete. Interior partitions and roof structures are built of combustible materials. Floor may be concrete or wood frame.  \n",
    "4\tBuildings having wood or wood and steel frames  \n",
    "5\tSpecialized buildings that do not fit in any of the above categories!  "
   ]
  },
  {
   "cell_type": "code",
   "execution_count": 36,
   "id": "dc6a2f35",
   "metadata": {},
   "outputs": [],
   "source": [
    "# not an important feature - remove\n",
    "df.drop(['buildingclasstypeid'], axis = 1, inplace = True)"
   ]
  },
  {
   "cell_type": "code",
   "execution_count": 37,
   "id": "9197282a",
   "metadata": {},
   "outputs": [
    {
     "data": {
      "text/plain": [
       "['airconditioningtypeid',\n",
       " 'architecturalstyletypeid',\n",
       " 'buildingqualitytypeid',\n",
       " 'decktypeid',\n",
       " 'fips',\n",
       " 'hashottuborspa',\n",
       " 'heatingorsystemtypeid',\n",
       " 'poolcnt',\n",
       " 'poolsizesum',\n",
       " 'pooltypeid10',\n",
       " 'pooltypeid2',\n",
       " 'pooltypeid7',\n",
       " 'propertylandusetypeid',\n",
       " 'regionidcounty',\n",
       " 'storytypeid',\n",
       " 'typeconstructiontypeid',\n",
       " 'fireplaceflag',\n",
       " 'taxdelinquencyflag']"
      ]
     },
     "execution_count": 37,
     "metadata": {},
     "output_type": "execute_result"
    }
   ],
   "source": [
    "cat_col.remove('buildingclasstypeid')\n",
    "cat_col"
   ]
  },
  {
   "cell_type": "code",
   "execution_count": 38,
   "id": "a8304b74",
   "metadata": {},
   "outputs": [],
   "source": [
    "# 7: Basement\n",
    "df['storytypeid'].value_counts()\n",
    "df.drop(['storytypeid'], axis = 1, inplace = True)\n",
    "cat_col.remove('storytypeid')"
   ]
  },
  {
   "cell_type": "code",
   "execution_count": 39,
   "id": "8e4be08b",
   "metadata": {},
   "outputs": [
    {
     "name": "stdout",
     "output_type": "stream",
     "text": [
      "7.0     5251\n",
      "8.0      380\n",
      "2.0      201\n",
      "21.0     150\n",
      "3.0       58\n",
      "5.0       19\n",
      "27.0       1\n",
      "10.0       1\n",
      "Name: architecturalstyletypeid, dtype: int64\n",
      "6.0     6669\n",
      "4.0       59\n",
      "13.0      14\n",
      "10.0       3\n",
      "11.0       1\n",
      "Name: typeconstructiontypeid, dtype: int64\n",
      "66.0    17370\n",
      "Name: decktypeid, dtype: int64\n",
      "1.0    16995\n",
      "Name: pooltypeid10, dtype: int64\n",
      "450.0     3178\n",
      "400.0      972\n",
      "480.0      917\n",
      "500.0      828\n",
      "512.0      826\n",
      "          ... \n",
      "1090.0       1\n",
      "1094.0       1\n",
      "1116.0       1\n",
      "1121.0       1\n",
      "1142.0       1\n",
      "Name: poolsizesum, Length: 907, dtype: int64\n",
      "1.0    33052\n",
      "Name: pooltypeid2, dtype: int64\n",
      "True    50047\n",
      "Name: hashottuborspa, dtype: int64\n",
      "Y    56226\n",
      "Name: taxdelinquencyflag, dtype: int64\n"
     ]
    }
   ],
   "source": [
    "# replace binary column with False/0\n",
    "# remove other category columns\n",
    "\n",
    "tmp_col = ['architecturalstyletypeid', 'typeconstructiontypeid', 'decktypeid', 'pooltypeid10', 'poolsizesum', \n",
    "          'pooltypeid2', 'hashottuborspa', 'taxdelinquencyflag']\n",
    "for i in tmp_col:\n",
    "    print(df[i].value_counts())"
   ]
  },
  {
   "cell_type": "code",
   "execution_count": 40,
   "id": "ac603ae1",
   "metadata": {},
   "outputs": [
    {
     "data": {
      "text/plain": [
       "(2933041, 34)"
      ]
     },
     "execution_count": 40,
     "metadata": {},
     "output_type": "execute_result"
    }
   ],
   "source": [
    "df.drop(['architecturalstyletypeid', 'typeconstructiontypeid', 'decktypeid', 'poolsizesum'], axis = 1, inplace = True)\n",
    "df.shape"
   ]
  },
  {
   "cell_type": "code",
   "execution_count": 41,
   "id": "1e4e1187",
   "metadata": {},
   "outputs": [],
   "source": [
    "cat_col = []\n",
    "for item in df.columns:\n",
    "    if item not in numeric_col:\n",
    "        cat_col.append(item)"
   ]
  },
  {
   "cell_type": "code",
   "execution_count": 42,
   "id": "b1c642e4",
   "metadata": {},
   "outputs": [
    {
     "name": "stdout",
     "output_type": "stream",
     "text": [
      "1.0     743643\n",
      "13.0     58459\n",
      "5.0       8790\n",
      "9.0       1904\n",
      "11.0      1818\n",
      "12.0        59\n",
      "3.0          7\n",
      "Name: airconditioningtypeid, dtype: int64\n",
      "6.0     561308\n",
      "8.0     501859\n",
      "4.0     447615\n",
      "7.0     189546\n",
      "5.0     106912\n",
      "9.0      69411\n",
      "11.0     28487\n",
      "3.0      17815\n",
      "10.0     10567\n",
      "12.0      4117\n",
      "1.0       1717\n",
      "2.0        288\n",
      "Name: buildingqualitytypeid, dtype: int64\n",
      "6037.0    1981216\n",
      "6059.0     734819\n",
      "6111.0     217006\n",
      "Name: fips, dtype: int64\n",
      "True    50047\n",
      "Name: hashottuborspa, dtype: int64\n",
      "2.0     1167677\n",
      "7.0      645027\n",
      "6.0       27476\n",
      "24.0      21075\n",
      "20.0       3622\n",
      "13.0       1342\n",
      "18.0        586\n",
      "1.0         262\n",
      "14.0         41\n",
      "10.0         39\n",
      "12.0         25\n",
      "11.0         16\n",
      "21.0          3\n",
      "19.0          1\n",
      "Name: heatingorsystemtypeid, dtype: int64\n",
      "1.0    539346\n",
      "Name: poolcnt, dtype: int64\n",
      "1.0    16995\n",
      "Name: pooltypeid10, dtype: int64\n",
      "1.0    33052\n",
      "Name: pooltypeid2, dtype: int64\n",
      "1.0    505613\n",
      "Name: pooltypeid7, dtype: int64\n",
      "261.0    2148455\n",
      "266.0     482624\n",
      "246.0     114097\n",
      "269.0      59755\n",
      "248.0      40471\n",
      "247.0      39795\n",
      "263.0      18572\n",
      "31.0        9437\n",
      "265.0       9415\n",
      "47.0        4330\n",
      "260.0       2807\n",
      "267.0       1806\n",
      "275.0       1218\n",
      "264.0        258\n",
      "279.0          1\n",
      "Name: propertylandusetypeid, dtype: int64\n",
      "3101.0    1981216\n",
      "1286.0     734819\n",
      "2061.0     217006\n",
      "Name: regionidcounty, dtype: int64\n",
      "True    5163\n",
      "Name: fireplaceflag, dtype: int64\n",
      "Y    56226\n",
      "Name: taxdelinquencyflag, dtype: int64\n"
     ]
    }
   ],
   "source": [
    "for i in range(0, len(cat_col)):\n",
    "    column_name = cat_col[i]\n",
    "    print(df[column_name].value_counts())"
   ]
  },
  {
   "cell_type": "code",
   "execution_count": 43,
   "id": "2a072111",
   "metadata": {},
   "outputs": [
    {
     "data": {
      "text/plain": [
       "5.0     2127151\n",
       "1.0      743643\n",
       "13.0      58459\n",
       "9.0        1904\n",
       "11.0       1818\n",
       "12.0         59\n",
       "3.0           7\n",
       "Name: airconditioningtypeid, dtype: int64"
      ]
     },
     "execution_count": 43,
     "metadata": {},
     "output_type": "execute_result"
    }
   ],
   "source": [
    "# 5 stands for None\n",
    "df['airconditioningtypeid'].fillna(5, inplace = True)\n",
    "df['airconditioningtypeid'].value_counts()"
   ]
  },
  {
   "cell_type": "code",
   "execution_count": 44,
   "id": "07ad858f",
   "metadata": {},
   "outputs": [
    {
     "data": {
      "text/plain": [
       "6.0     1554707\n",
       "8.0      501859\n",
       "4.0      447615\n",
       "7.0      189546\n",
       "5.0      106912\n",
       "9.0       69411\n",
       "11.0      28487\n",
       "3.0       17815\n",
       "10.0      10567\n",
       "12.0       4117\n",
       "1.0        1717\n",
       "2.0         288\n",
       "Name: buildingqualitytypeid, dtype: int64"
      ]
     },
     "execution_count": 44,
     "metadata": {},
     "output_type": "execute_result"
    }
   ],
   "source": [
    "# buildingqualitytypeid: Overall assessment of condition of the building from best (lowest) to worst (highest)\n",
    "df['buildingqualitytypeid'].fillna(df['buildingqualitytypeid'].mode()[0], inplace = True)\n",
    "df['buildingqualitytypeid'].value_counts()"
   ]
  },
  {
   "cell_type": "code",
   "execution_count": 45,
   "id": "d6dc342d",
   "metadata": {},
   "outputs": [
    {
     "data": {
      "text/plain": [
       "6037.0    1981216\n",
       "6059.0     734819\n",
       "6111.0     217006\n",
       "Name: fips, dtype: int64"
      ]
     },
     "execution_count": 45,
     "metadata": {},
     "output_type": "execute_result"
    }
   ],
   "source": [
    "df['fips'].fillna(df['fips'].mode()[0], inplace = True)\n",
    "df['fips'].value_counts()"
   ]
  },
  {
   "cell_type": "code",
   "execution_count": 46,
   "id": "d4e657ad",
   "metadata": {},
   "outputs": [
    {
     "data": {
      "text/plain": [
       "False    2882994\n",
       "True       50047\n",
       "Name: hashottuborspa, dtype: int64"
      ]
     },
     "execution_count": 46,
     "metadata": {},
     "output_type": "execute_result"
    }
   ],
   "source": [
    "df['hashottuborspa'].fillna(False, inplace = True)\n",
    "df['hashottuborspa'].value_counts()"
   ]
  },
  {
   "cell_type": "code",
   "execution_count": 47,
   "id": "6ecb0267",
   "metadata": {},
   "outputs": [
    {
     "data": {
      "text/plain": [
       "2.0     1167677\n",
       "13.0    1067191\n",
       "7.0      645027\n",
       "6.0       27476\n",
       "24.0      21075\n",
       "20.0       3622\n",
       "18.0        586\n",
       "1.0         262\n",
       "14.0         41\n",
       "10.0         39\n",
       "12.0         25\n",
       "11.0         16\n",
       "21.0          3\n",
       "19.0          1\n",
       "Name: heatingorsystemtypeid, dtype: int64"
      ]
     },
     "execution_count": 47,
     "metadata": {},
     "output_type": "execute_result"
    }
   ],
   "source": [
    "# 13 stands for None\n",
    "df['heatingorsystemtypeid'].fillna(13, inplace = True)\n",
    "df['heatingorsystemtypeid'].value_counts()"
   ]
  },
  {
   "cell_type": "code",
   "execution_count": 48,
   "id": "4ac9c3d1",
   "metadata": {},
   "outputs": [],
   "source": [
    "for item in ['poolcnt', 'pooltypeid10', 'pooltypeid2', 'pooltypeid7', 'fireplaceflag', 'taxdelinquencyflag']:\n",
    "    df[item].fillna(0, inplace = True)"
   ]
  },
  {
   "cell_type": "code",
   "execution_count": 49,
   "id": "baa8bdec",
   "metadata": {},
   "outputs": [
    {
     "data": {
      "text/plain": [
       "261.0    2148455\n",
       "266.0     482624\n",
       "246.0     114097\n",
       "269.0      59755\n",
       "248.0      40471\n",
       "247.0      39795\n",
       "263.0      18572\n",
       "31.0        9437\n",
       "265.0       9415\n",
       "47.0        4330\n",
       "260.0       2807\n",
       "267.0       1806\n",
       "275.0       1218\n",
       "264.0        258\n",
       "279.0          1\n",
       "Name: propertylandusetypeid, dtype: int64"
      ]
     },
     "execution_count": 49,
     "metadata": {},
     "output_type": "execute_result"
    }
   ],
   "source": [
    "# 261: SFR\n",
    "df['propertylandusetypeid'].fillna(261, inplace = True)\n",
    "df['propertylandusetypeid'].value_counts()"
   ]
  },
  {
   "cell_type": "code",
   "execution_count": 50,
   "id": "c2393867",
   "metadata": {},
   "outputs": [],
   "source": [
    "df['regionidcity'].fillna(df['regionidcity'].mode()[0], inplace = True)\n",
    "df['regionidcounty'].fillna(df['regionidcounty'].mode()[0], inplace = True)\n",
    "df['regionidzip'].fillna(df['regionidzip'].mode()[0], inplace = True)"
   ]
  },
  {
   "cell_type": "code",
   "execution_count": 51,
   "id": "9bec10c1",
   "metadata": {},
   "outputs": [
    {
     "data": {
      "text/html": [
       "<div>\n",
       "<style scoped>\n",
       "    .dataframe tbody tr th:only-of-type {\n",
       "        vertical-align: middle;\n",
       "    }\n",
       "\n",
       "    .dataframe tbody tr th {\n",
       "        vertical-align: top;\n",
       "    }\n",
       "\n",
       "    .dataframe thead th {\n",
       "        text-align: right;\n",
       "    }\n",
       "</style>\n",
       "<table border=\"1\" class=\"dataframe\">\n",
       "  <thead>\n",
       "    <tr style=\"text-align: right;\">\n",
       "      <th></th>\n",
       "      <th>Total</th>\n",
       "      <th>Percent</th>\n",
       "    </tr>\n",
       "  </thead>\n",
       "  <tbody>\n",
       "    <tr>\n",
       "      <th>taxdelinquencyflag</th>\n",
       "      <td>0</td>\n",
       "      <td>0.0</td>\n",
       "    </tr>\n",
       "    <tr>\n",
       "      <th>fireplaceflag</th>\n",
       "      <td>0</td>\n",
       "      <td>0.0</td>\n",
       "    </tr>\n",
       "    <tr>\n",
       "      <th>regionidcounty</th>\n",
       "      <td>0</td>\n",
       "      <td>0.0</td>\n",
       "    </tr>\n",
       "    <tr>\n",
       "      <th>propertylandusetypeid</th>\n",
       "      <td>0</td>\n",
       "      <td>0.0</td>\n",
       "    </tr>\n",
       "    <tr>\n",
       "      <th>pooltypeid7</th>\n",
       "      <td>0</td>\n",
       "      <td>0.0</td>\n",
       "    </tr>\n",
       "  </tbody>\n",
       "</table>\n",
       "</div>"
      ],
      "text/plain": [
       "                       Total  Percent\n",
       "taxdelinquencyflag         0      0.0\n",
       "fireplaceflag              0      0.0\n",
       "regionidcounty             0      0.0\n",
       "propertylandusetypeid      0      0.0\n",
       "pooltypeid7                0      0.0"
      ]
     },
     "execution_count": 51,
     "metadata": {},
     "output_type": "execute_result"
    }
   ],
   "source": [
    "cat_property = df[cat_col]\n",
    "total = cat_property.isnull().sum().sort_values(ascending=False)\n",
    "percent = (cat_property.isnull().sum()/cat_property.isnull().count()).sort_values(ascending=False)\n",
    "missing_data = pd.concat([total, percent], axis=1, keys=['Total', 'Percent'])\n",
    "missing_data.head()"
   ]
  },
  {
   "cell_type": "code",
   "execution_count": 52,
   "id": "bd5ba729",
   "metadata": {},
   "outputs": [
    {
     "data": {
      "text/html": [
       "<div>\n",
       "<style scoped>\n",
       "    .dataframe tbody tr th:only-of-type {\n",
       "        vertical-align: middle;\n",
       "    }\n",
       "\n",
       "    .dataframe tbody tr th {\n",
       "        vertical-align: top;\n",
       "    }\n",
       "\n",
       "    .dataframe thead th {\n",
       "        text-align: right;\n",
       "    }\n",
       "</style>\n",
       "<table border=\"1\" class=\"dataframe\">\n",
       "  <thead>\n",
       "    <tr style=\"text-align: right;\">\n",
       "      <th></th>\n",
       "      <th>Total</th>\n",
       "      <th>Percent</th>\n",
       "    </tr>\n",
       "  </thead>\n",
       "  <tbody>\n",
       "    <tr>\n",
       "      <th>y</th>\n",
       "      <td>0</td>\n",
       "      <td>0.0</td>\n",
       "    </tr>\n",
       "    <tr>\n",
       "      <th>fireplacecnt</th>\n",
       "      <td>0</td>\n",
       "      <td>0.0</td>\n",
       "    </tr>\n",
       "    <tr>\n",
       "      <th>latitude</th>\n",
       "      <td>0</td>\n",
       "      <td>0.0</td>\n",
       "    </tr>\n",
       "    <tr>\n",
       "      <th>heatingorsystemtypeid</th>\n",
       "      <td>0</td>\n",
       "      <td>0.0</td>\n",
       "    </tr>\n",
       "    <tr>\n",
       "      <th>hashottuborspa</th>\n",
       "      <td>0</td>\n",
       "      <td>0.0</td>\n",
       "    </tr>\n",
       "  </tbody>\n",
       "</table>\n",
       "</div>"
      ],
      "text/plain": [
       "                       Total  Percent\n",
       "y                          0      0.0\n",
       "fireplacecnt               0      0.0\n",
       "latitude                   0      0.0\n",
       "heatingorsystemtypeid      0      0.0\n",
       "hashottuborspa             0      0.0"
      ]
     },
     "execution_count": 52,
     "metadata": {},
     "output_type": "execute_result"
    }
   ],
   "source": [
    "total = df.isnull().sum().sort_values(ascending=False)\n",
    "percent = (df.isnull().sum()/df.isnull().count()).sort_values(ascending=False)\n",
    "missing_data = pd.concat([total, percent], axis=1, keys=['Total', 'Percent'])\n",
    "missing_data.head()"
   ]
  },
  {
   "cell_type": "code",
   "execution_count": 53,
   "id": "d463797d",
   "metadata": {},
   "outputs": [
    {
     "data": {
      "text/plain": [
       "13"
      ]
     },
     "execution_count": 53,
     "metadata": {},
     "output_type": "execute_result"
    }
   ],
   "source": [
    "len(cat_col)"
   ]
  },
  {
   "cell_type": "code",
   "execution_count": 57,
   "id": "09e90ee1",
   "metadata": {},
   "outputs": [
    {
     "data": {
      "text/plain": [
       "(2933041, 34)"
      ]
     },
     "execution_count": 57,
     "metadata": {},
     "output_type": "execute_result"
    }
   ],
   "source": [
    "df.shape"
   ]
  },
  {
   "cell_type": "markdown",
   "id": "8405eb78",
   "metadata": {},
   "source": [
    "## Data analysis"
   ]
  },
  {
   "cell_type": "code",
   "execution_count": 54,
   "id": "c41a28e3",
   "metadata": {},
   "outputs": [
    {
     "name": "stderr",
     "output_type": "stream",
     "text": [
      "/opt/anaconda3/lib/python3.8/site-packages/pandas/core/indexing.py:670: SettingWithCopyWarning: \n",
      "A value is trying to be set on a copy of a slice from a DataFrame\n",
      "\n",
      "See the caveats in the documentation: https://pandas.pydata.org/pandas-docs/stable/user_guide/indexing.html#returning-a-view-versus-a-copy\n",
      "  iloc._setitem_with_indexer(indexer, value)\n",
      "/opt/anaconda3/lib/python3.8/site-packages/pandas/core/indexing.py:670: SettingWithCopyWarning: \n",
      "A value is trying to be set on a copy of a slice from a DataFrame\n",
      "\n",
      "See the caveats in the documentation: https://pandas.pydata.org/pandas-docs/stable/user_guide/indexing.html#returning-a-view-versus-a-copy\n",
      "  iloc._setitem_with_indexer(indexer, value)\n",
      "/opt/anaconda3/lib/python3.8/site-packages/seaborn/distributions.py:2557: FutureWarning: `distplot` is a deprecated function and will be removed in a future version. Please adapt your code to use either `displot` (a figure-level function with similar flexibility) or `histplot` (an axes-level function for histograms).\n",
      "  warnings.warn(msg, FutureWarning)\n"
     ]
    },
    {
     "data": {
      "image/png": "[encoded data removed]",
      "text/plain": [
       "<Figure size 864x576 with 1 Axes>"
      ]
     },
     "metadata": {
      "needs_background": "light"
     },
     "output_type": "display_data"
    }
   ],
   "source": [
    "# y value distribution\n",
    "ulimit = np.percentile(df.y.values, 99)\n",
    "llimit = np.percentile(df.y.values, 1)\n",
    "df['y'].iloc[df['y']>ulimit] = ulimit\n",
    "df['y'].iloc[df['y']<llimit] = llimit\n",
    "\n",
    "plt.figure(figsize=(12,8))\n",
    "sns.distplot(df.y.values, bins=50, kde=False)\n",
    "plt.xlabel('y', fontsize=12)\n",
    "plt.show()"
   ]
  },
  {
   "cell_type": "code",
   "execution_count": 56,
   "id": "928dd4d7",
   "metadata": {},
   "outputs": [
    {
     "data": {
      "text/plain": [
       "<Figure size 864x864 with 0 Axes>"
      ]
     },
     "metadata": {},
     "output_type": "display_data"
    },
    {
     "data": {
      "image/png": "[encoded data removed]",
      "text/plain": [
       "<Figure size 720x720 with 3 Axes>"
      ]
     },
     "metadata": {
      "needs_background": "light"
     },
     "output_type": "display_data"
    }
   ],
   "source": [
    "# longtitude and latitude\n",
    "# From the data page, we are provided with a full list of real estate properties in three counties \n",
    "# (Los Angeles, Orange and Ventura, California) data in 2016.\n",
    "plt.figure(figsize=(12,12))\n",
    "sns.jointplot(x=df.latitude.values, y=df.longitude.values, height=10)\n",
    "plt.ylabel('Longitude', fontsize=12)\n",
    "plt.xlabel('Latitude', fontsize=12)\n",
    "# plt.legend()\n",
    "plt.show()"
   ]
  },
  {
   "cell_type": "code",
   "execution_count": 57,
   "id": "d0faa179",
   "metadata": {},
   "outputs": [
    {
     "data": {
      "text/plain": [
       "<AxesSubplot:>"
      ]
     },
     "execution_count": 57,
     "metadata": {},
     "output_type": "execute_result"
    },
    {
     "data": {
      "image/png": "[encoded data removed]",
      "text/plain": [
       "<Figure size 864x648 with 2 Axes>"
      ]
     },
     "metadata": {
      "needs_background": "light"
     },
     "output_type": "display_data"
    }
   ],
   "source": [
    "#correlation matrix for numeric df\n",
    "numeric_property = df[numeric_col]\n",
    "corrmat = numeric_property.corr()\n",
    "f, ax = plt.subplots(figsize=(12, 9))\n",
    "sns.heatmap(corrmat, vmax=1.0, square=True)"
   ]
  },
  {
   "cell_type": "code",
   "execution_count": 58,
   "id": "c95367cd",
   "metadata": {},
   "outputs": [
    {
     "data": {
      "text/plain": [
       "<AxesSubplot:>"
      ]
     },
     "execution_count": 58,
     "metadata": {},
     "output_type": "execute_result"
    },
    {
     "data": {
      "image/png": "[encoded data removed]",
      "text/plain": [
       "<Figure size 864x648 with 2 Axes>"
      ]
     },
     "metadata": {
      "needs_background": "light"
     },
     "output_type": "display_data"
    }
   ],
   "source": [
    "#correlation matrix\n",
    "corrmat = df.corr()\n",
    "f, ax = plt.subplots(figsize=(12, 9))\n",
    "sns.heatmap(corrmat, vmax=.8, square=True, cmap = \"Accent\")"
   ]
  },
  {
   "cell_type": "markdown",
   "id": "e9c936e9",
   "metadata": {},
   "source": [
    "According to the crystal ball, these are ten variables most correlated with 'y value'.  \n",
    "Tax amount and finishedsqaurefeet12 are two of the most columns which are closest related to house price.       \n",
    "It is reasonable because the house price will be larger if the tax amount is higher or finished sqft of the houses is  larger.   "
   ]
  },
  {
   "cell_type": "code",
   "execution_count": 59,
   "id": "7235d7af",
   "metadata": {},
   "outputs": [
    {
     "data": {
      "image/png": "[encoded data removed]",
      "text/plain": [
       "<Figure size 432x288 with 2 Axes>"
      ]
     },
     "metadata": {},
     "output_type": "display_data"
    }
   ],
   "source": [
    "k = 10 #number of variables for heatmap\n",
    "cols = corrmat.nlargest(k, 'y')['y'].index\n",
    "cm = np.corrcoef(df[cols].values.T)\n",
    "sns.set(font_scale=1)\n",
    "hm = sns.heatmap(cm, cbar=True, annot=True, square=True, fmt='.2f', annot_kws={'size': 10}, \n",
    "                 yticklabels=cols.values, xticklabels=cols.values)\n",
    "plt.show()"
   ]
  },
  {
   "cell_type": "code",
   "execution_count": null,
   "id": "1c67cd62",
   "metadata": {},
   "outputs": [],
   "source": []
  }
 ],
 "metadata": {
  "kernelspec": {
   "display_name": "Python 3",
   "language": "python",
   "name": "python3"
  },
  "language_info": {
   "codemirror_mode": {
    "name": "ipython",
    "version": 3
   },
   "file_extension": ".py",
   "mimetype": "text/x-python",
   "name": "python",
   "nbconvert_exporter": "python",
   "pygments_lexer": "ipython3",
   "version": "3.8.8"
  }
 },
 "nbformat": 4,
 "nbformat_minor": 5
}
